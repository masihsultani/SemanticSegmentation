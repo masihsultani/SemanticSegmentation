{
  "nbformat": 4,
  "nbformat_minor": 0,
  "metadata": {
    "colab": {
      "name": "SemanticSegmentation.ipynb",
      "provenance": [],
      "collapsed_sections": [],
      "toc_visible": true
    },
    "kernelspec": {
      "name": "python3",
      "display_name": "Python 3"
    },
    "accelerator": "GPU"
  },
  "cells": [
    {
      "cell_type": "markdown",
      "metadata": {
        "id": "vmfA3r2sJjlw",
        "colab_type": "text"
      },
      "source": [
        "# Importing and setting up directory"
      ]
    },
    {
      "cell_type": "code",
      "metadata": {
        "id": "hpv9VuVi4nMb",
        "colab_type": "code",
        "outputId": "d280ae25-db88-4c41-932c-12e86e8558b1",
        "colab": {
          "base_uri": "https://localhost:8080/",
          "height": 35
        }
      },
      "source": [
        "%mkdir -p /content/semseg\n",
        "%cd /content/semseg"
      ],
      "execution_count": 1,
      "outputs": [
        {
          "output_type": "stream",
          "text": [
            "/content/semseg\n"
          ],
          "name": "stdout"
        }
      ]
    },
    {
      "cell_type": "code",
      "metadata": {
        "id": "isRHJyHA5KLj",
        "colab_type": "code",
        "colab": {
          "base_uri": "https://localhost:8080/",
          "height": 1000
        },
        "outputId": "f5056201-8daf-4d2c-8f95-709b87da80b5"
      },
      "source": [
        "import os\n",
        "if not os.path.exists(\"17flowers.tgz\"):\n",
        "    print(\"Downloading flower dataset\")\n",
        "    !wget https://www.robots.ox.ac.uk/~vgg/data/flowers/17/17flowers.tgz\n",
        "    !tar xvzf 17flowers.tgz\n",
        "if not os.path.exists(\"trimaps.tgz\"):\n",
        "    !wget https://www.robots.ox.ac.uk/~vgg/data/flowers/17/trimaps.tgz\n",
        "    !tar xvzf trimaps.tgz\n",
        "if not os.path.exists(\"datasplits.mat\"):\n",
        "    !wget https://www.robots.ox.ac.uk/~vgg/data/flowers/17/datasplits.mat"
      ],
      "execution_count": 2,
      "outputs": [
        {
          "output_type": "stream",
          "text": [
            "Downloading flower dataset\n",
            "--2020-05-24 22:40:47--  https://www.robots.ox.ac.uk/~vgg/data/flowers/17/17flowers.tgz\n",
            "Resolving www.robots.ox.ac.uk (www.robots.ox.ac.uk)... 129.67.94.2\n",
            "Connecting to www.robots.ox.ac.uk (www.robots.ox.ac.uk)|129.67.94.2|:443... connected.\n",
            "HTTP request sent, awaiting response... 200 OK\n",
            "Length: 60270631 (57M) [application/x-gzip]\n",
            "Saving to: ‘17flowers.tgz’\n",
            "\n",
            "17flowers.tgz       100%[===================>]  57.48M  10.2MB/s    in 7.4s    \n",
            "\n",
            "2020-05-24 22:40:56 (7.73 MB/s) - ‘17flowers.tgz’ saved [60270631/60270631]\n",
            "\n",
            "jpg/files.txt\n",
            "jpg/files.txt~\n",
            "jpg/image_0001.jpg\n",
            "jpg/image_0002.jpg\n",
            "jpg/image_0003.jpg\n",
            "jpg/image_0004.jpg\n",
            "jpg/image_0005.jpg\n",
            "jpg/image_0006.jpg\n",
            "jpg/image_0007.jpg\n",
            "jpg/image_0008.jpg\n",
            "jpg/image_0009.jpg\n",
            "jpg/image_0010.jpg\n",
            "jpg/image_0011.jpg\n",
            "jpg/image_0012.jpg\n",
            "jpg/image_0013.jpg\n",
            "jpg/image_0014.jpg\n",
            "jpg/image_0015.jpg\n",
            "jpg/image_0016.jpg\n",
            "jpg/image_0017.jpg\n",
            "jpg/image_0018.jpg\n",
            "jpg/image_0019.jpg\n",
            "jpg/image_0020.jpg\n",
            "jpg/image_0021.jpg\n",
            "jpg/image_0022.jpg\n",
            "jpg/image_0023.jpg\n",
            "jpg/image_0024.jpg\n",
            "jpg/image_0025.jpg\n",
            "jpg/image_0026.jpg\n",
            "jpg/image_0027.jpg\n",
            "jpg/image_0028.jpg\n",
            "jpg/image_0029.jpg\n",
            "jpg/image_0030.jpg\n",
            "jpg/image_0031.jpg\n",
            "jpg/image_0032.jpg\n",
            "jpg/image_0033.jpg\n",
            "jpg/image_0034.jpg\n",
            "jpg/image_0035.jpg\n",
            "jpg/image_0036.jpg\n",
            "jpg/image_0037.jpg\n",
            "jpg/image_0038.jpg\n",
            "jpg/image_0039.jpg\n",
            "jpg/image_0040.jpg\n",
            "jpg/image_0041.jpg\n",
            "jpg/image_0042.jpg\n",
            "jpg/image_0043.jpg\n",
            "jpg/image_0044.jpg\n",
            "jpg/image_0045.jpg\n",
            "jpg/image_0046.jpg\n",
            "jpg/image_0047.jpg\n",
            "jpg/image_0048.jpg\n",
            "jpg/image_0049.jpg\n",
            "jpg/image_0050.jpg\n",
            "jpg/image_0051.jpg\n",
            "jpg/image_0052.jpg\n",
            "jpg/image_0053.jpg\n",
            "jpg/image_0054.jpg\n",
            "jpg/image_0055.jpg\n",
            "jpg/image_0056.jpg\n",
            "jpg/image_0057.jpg\n",
            "jpg/image_0058.jpg\n",
            "jpg/image_0059.jpg\n",
            "jpg/image_0060.jpg\n",
            "jpg/image_0061.jpg\n",
            "jpg/image_0062.jpg\n",
            "jpg/image_0063.jpg\n",
            "jpg/image_0064.jpg\n",
            "jpg/image_0065.jpg\n",
            "jpg/image_0066.jpg\n",
            "jpg/image_0067.jpg\n",
            "jpg/image_0068.jpg\n",
            "jpg/image_0069.jpg\n",
            "jpg/image_0070.jpg\n",
            "jpg/image_0071.jpg\n",
            "jpg/image_0072.jpg\n",
            "jpg/image_0073.jpg\n",
            "jpg/image_0074.jpg\n",
            "jpg/image_0075.jpg\n",
            "jpg/image_0076.jpg\n",
            "jpg/image_0077.jpg\n",
            "jpg/image_0078.jpg\n",
            "jpg/image_0079.jpg\n",
            "jpg/image_0080.jpg\n",
            "jpg/image_0081.jpg\n",
            "jpg/image_0082.jpg\n",
            "jpg/image_0083.jpg\n",
            "jpg/image_0084.jpg\n",
            "jpg/image_0085.jpg\n",
            "jpg/image_0086.jpg\n",
            "jpg/image_0087.jpg\n",
            "jpg/image_0088.jpg\n",
            "jpg/image_0089.jpg\n",
            "jpg/image_0090.jpg\n",
            "jpg/image_0091.jpg\n",
            "jpg/image_0092.jpg\n",
            "jpg/image_0093.jpg\n",
            "jpg/image_0094.jpg\n",
            "jpg/image_0095.jpg\n",
            "jpg/image_0096.jpg\n",
            "jpg/image_0097.jpg\n",
            "jpg/image_0098.jpg\n",
            "jpg/image_0099.jpg\n",
            "jpg/image_0100.jpg\n",
            "jpg/image_0101.jpg\n",
            "jpg/image_0102.jpg\n",
            "jpg/image_0103.jpg\n",
            "jpg/image_0104.jpg\n",
            "jpg/image_0105.jpg\n",
            "jpg/image_0106.jpg\n",
            "jpg/image_0107.jpg\n",
            "jpg/image_0108.jpg\n",
            "jpg/image_0109.jpg\n",
            "jpg/image_0110.jpg\n",
            "jpg/image_0111.jpg\n",
            "jpg/image_0112.jpg\n",
            "jpg/image_0113.jpg\n",
            "jpg/image_0114.jpg\n",
            "jpg/image_0115.jpg\n",
            "jpg/image_0116.jpg\n",
            "jpg/image_0117.jpg\n",
            "jpg/image_0118.jpg\n",
            "jpg/image_0119.jpg\n",
            "jpg/image_0120.jpg\n",
            "jpg/image_0121.jpg\n",
            "jpg/image_0122.jpg\n",
            "jpg/image_0123.jpg\n",
            "jpg/image_0124.jpg\n",
            "jpg/image_0125.jpg\n",
            "jpg/image_0126.jpg\n",
            "jpg/image_0127.jpg\n",
            "jpg/image_0128.jpg\n",
            "jpg/image_0129.jpg\n",
            "jpg/image_0130.jpg\n",
            "jpg/image_0131.jpg\n",
            "jpg/image_0132.jpg\n",
            "jpg/image_0133.jpg\n",
            "jpg/image_0134.jpg\n",
            "jpg/image_0135.jpg\n",
            "jpg/image_0136.jpg\n",
            "jpg/image_0137.jpg\n",
            "jpg/image_0138.jpg\n",
            "jpg/image_0139.jpg\n",
            "jpg/image_0140.jpg\n",
            "jpg/image_0141.jpg\n",
            "jpg/image_0142.jpg\n",
            "jpg/image_0143.jpg\n",
            "jpg/image_0144.jpg\n",
            "jpg/image_0145.jpg\n",
            "jpg/image_0146.jpg\n",
            "jpg/image_0147.jpg\n",
            "jpg/image_0148.jpg\n",
            "jpg/image_0149.jpg\n",
            "jpg/image_0150.jpg\n",
            "jpg/image_0151.jpg\n",
            "jpg/image_0152.jpg\n",
            "jpg/image_0153.jpg\n",
            "jpg/image_0154.jpg\n",
            "jpg/image_0155.jpg\n",
            "jpg/image_0156.jpg\n",
            "jpg/image_0157.jpg\n",
            "jpg/image_0158.jpg\n",
            "jpg/image_0159.jpg\n",
            "jpg/image_0160.jpg\n",
            "jpg/image_0161.jpg\n",
            "jpg/image_0162.jpg\n",
            "jpg/image_0163.jpg\n",
            "jpg/image_0164.jpg\n",
            "jpg/image_0165.jpg\n",
            "jpg/image_0166.jpg\n",
            "jpg/image_0167.jpg\n",
            "jpg/image_0168.jpg\n",
            "jpg/image_0169.jpg\n",
            "jpg/image_0170.jpg\n",
            "jpg/image_0171.jpg\n",
            "jpg/image_0172.jpg\n",
            "jpg/image_0173.jpg\n",
            "jpg/image_0174.jpg\n",
            "jpg/image_0175.jpg\n",
            "jpg/image_0176.jpg\n",
            "jpg/image_0177.jpg\n",
            "jpg/image_0178.jpg\n",
            "jpg/image_0179.jpg\n",
            "jpg/image_0180.jpg\n",
            "jpg/image_0181.jpg\n",
            "jpg/image_0182.jpg\n",
            "jpg/image_0183.jpg\n",
            "jpg/image_0184.jpg\n",
            "jpg/image_0185.jpg\n",
            "jpg/image_0186.jpg\n",
            "jpg/image_0187.jpg\n",
            "jpg/image_0188.jpg\n",
            "jpg/image_0189.jpg\n",
            "jpg/image_0190.jpg\n",
            "jpg/image_0191.jpg\n",
            "jpg/image_0192.jpg\n",
            "jpg/image_0193.jpg\n",
            "jpg/image_0194.jpg\n",
            "jpg/image_0195.jpg\n",
            "jpg/image_0196.jpg\n",
            "jpg/image_0197.jpg\n",
            "jpg/image_0198.jpg\n",
            "jpg/image_0199.jpg\n",
            "jpg/image_0200.jpg\n",
            "jpg/image_0201.jpg\n",
            "jpg/image_0202.jpg\n",
            "jpg/image_0203.jpg\n",
            "jpg/image_0204.jpg\n",
            "jpg/image_0205.jpg\n",
            "jpg/image_0206.jpg\n",
            "jpg/image_0207.jpg\n",
            "jpg/image_0208.jpg\n",
            "jpg/image_0209.jpg\n",
            "jpg/image_0210.jpg\n",
            "jpg/image_0211.jpg\n",
            "jpg/image_0212.jpg\n",
            "jpg/image_0213.jpg\n",
            "jpg/image_0214.jpg\n",
            "jpg/image_0215.jpg\n",
            "jpg/image_0216.jpg\n",
            "jpg/image_0217.jpg\n",
            "jpg/image_0218.jpg\n",
            "jpg/image_0219.jpg\n",
            "jpg/image_0220.jpg\n",
            "jpg/image_0221.jpg\n",
            "jpg/image_0222.jpg\n",
            "jpg/image_0223.jpg\n",
            "jpg/image_0224.jpg\n",
            "jpg/image_0225.jpg\n",
            "jpg/image_0226.jpg\n",
            "jpg/image_0227.jpg\n",
            "jpg/image_0228.jpg\n",
            "jpg/image_0229.jpg\n",
            "jpg/image_0230.jpg\n",
            "jpg/image_0231.jpg\n",
            "jpg/image_0232.jpg\n",
            "jpg/image_0233.jpg\n",
            "jpg/image_0234.jpg\n",
            "jpg/image_0235.jpg\n",
            "jpg/image_0236.jpg\n",
            "jpg/image_0237.jpg\n",
            "jpg/image_0238.jpg\n",
            "jpg/image_0239.jpg\n",
            "jpg/image_0240.jpg\n",
            "jpg/image_0241.jpg\n",
            "jpg/image_0242.jpg\n",
            "jpg/image_0243.jpg\n",
            "jpg/image_0244.jpg\n",
            "jpg/image_0245.jpg\n",
            "jpg/image_0246.jpg\n",
            "jpg/image_0247.jpg\n",
            "jpg/image_0248.jpg\n",
            "jpg/image_0249.jpg\n",
            "jpg/image_0250.jpg\n",
            "jpg/image_0251.jpg\n",
            "jpg/image_0252.jpg\n",
            "jpg/image_0253.jpg\n",
            "jpg/image_0254.jpg\n",
            "jpg/image_0255.jpg\n",
            "jpg/image_0256.jpg\n",
            "jpg/image_0257.jpg\n",
            "jpg/image_0258.jpg\n",
            "jpg/image_0259.jpg\n",
            "jpg/image_0260.jpg\n",
            "jpg/image_0261.jpg\n",
            "jpg/image_0262.jpg\n",
            "jpg/image_0263.jpg\n",
            "jpg/image_0264.jpg\n",
            "jpg/image_0265.jpg\n",
            "jpg/image_0266.jpg\n",
            "jpg/image_0267.jpg\n",
            "jpg/image_0268.jpg\n",
            "jpg/image_0269.jpg\n",
            "jpg/image_0270.jpg\n",
            "jpg/image_0271.jpg\n",
            "jpg/image_0272.jpg\n",
            "jpg/image_0273.jpg\n",
            "jpg/image_0274.jpg\n",
            "jpg/image_0275.jpg\n",
            "jpg/image_0276.jpg\n",
            "jpg/image_0277.jpg\n",
            "jpg/image_0278.jpg\n",
            "jpg/image_0279.jpg\n",
            "jpg/image_0280.jpg\n",
            "jpg/image_0281.jpg\n",
            "jpg/image_0282.jpg\n",
            "jpg/image_0283.jpg\n",
            "jpg/image_0284.jpg\n",
            "jpg/image_0285.jpg\n",
            "jpg/image_0286.jpg\n",
            "jpg/image_0287.jpg\n",
            "jpg/image_0288.jpg\n",
            "jpg/image_0289.jpg\n",
            "jpg/image_0290.jpg\n",
            "jpg/image_0291.jpg\n",
            "jpg/image_0292.jpg\n",
            "jpg/image_0293.jpg\n",
            "jpg/image_0294.jpg\n",
            "jpg/image_0295.jpg\n",
            "jpg/image_0296.jpg\n",
            "jpg/image_0297.jpg\n",
            "jpg/image_0298.jpg\n",
            "jpg/image_0299.jpg\n",
            "jpg/image_0300.jpg\n",
            "jpg/image_0301.jpg\n",
            "jpg/image_0302.jpg\n",
            "jpg/image_0303.jpg\n",
            "jpg/image_0304.jpg\n",
            "jpg/image_0305.jpg\n",
            "jpg/image_0306.jpg\n",
            "jpg/image_0307.jpg\n",
            "jpg/image_0308.jpg\n",
            "jpg/image_0309.jpg\n",
            "jpg/image_0310.jpg\n",
            "jpg/image_0311.jpg\n",
            "jpg/image_0312.jpg\n",
            "jpg/image_0313.jpg\n",
            "jpg/image_0314.jpg\n",
            "jpg/image_0315.jpg\n",
            "jpg/image_0316.jpg\n",
            "jpg/image_0317.jpg\n",
            "jpg/image_0318.jpg\n",
            "jpg/image_0319.jpg\n",
            "jpg/image_0320.jpg\n",
            "jpg/image_0321.jpg\n",
            "jpg/image_0322.jpg\n",
            "jpg/image_0323.jpg\n",
            "jpg/image_0324.jpg\n",
            "jpg/image_0325.jpg\n",
            "jpg/image_0326.jpg\n",
            "jpg/image_0327.jpg\n",
            "jpg/image_0328.jpg\n",
            "jpg/image_0329.jpg\n",
            "jpg/image_0330.jpg\n",
            "jpg/image_0331.jpg\n",
            "jpg/image_0332.jpg\n",
            "jpg/image_0333.jpg\n",
            "jpg/image_0334.jpg\n",
            "jpg/image_0335.jpg\n",
            "jpg/image_0336.jpg\n",
            "jpg/image_0337.jpg\n",
            "jpg/image_0338.jpg\n",
            "jpg/image_0339.jpg\n",
            "jpg/image_0340.jpg\n",
            "jpg/image_0341.jpg\n",
            "jpg/image_0342.jpg\n",
            "jpg/image_0343.jpg\n",
            "jpg/image_0344.jpg\n",
            "jpg/image_0345.jpg\n",
            "jpg/image_0346.jpg\n",
            "jpg/image_0347.jpg\n",
            "jpg/image_0348.jpg\n",
            "jpg/image_0349.jpg\n",
            "jpg/image_0350.jpg\n",
            "jpg/image_0351.jpg\n",
            "jpg/image_0352.jpg\n",
            "jpg/image_0353.jpg\n",
            "jpg/image_0354.jpg\n",
            "jpg/image_0355.jpg\n",
            "jpg/image_0356.jpg\n",
            "jpg/image_0357.jpg\n",
            "jpg/image_0358.jpg\n",
            "jpg/image_0359.jpg\n",
            "jpg/image_0360.jpg\n",
            "jpg/image_0361.jpg\n",
            "jpg/image_0362.jpg\n",
            "jpg/image_0363.jpg\n",
            "jpg/image_0364.jpg\n",
            "jpg/image_0365.jpg\n",
            "jpg/image_0366.jpg\n",
            "jpg/image_0367.jpg\n",
            "jpg/image_0368.jpg\n",
            "jpg/image_0369.jpg\n",
            "jpg/image_0370.jpg\n",
            "jpg/image_0371.jpg\n",
            "jpg/image_0372.jpg\n",
            "jpg/image_0373.jpg\n",
            "jpg/image_0374.jpg\n",
            "jpg/image_0375.jpg\n",
            "jpg/image_0376.jpg\n",
            "jpg/image_0377.jpg\n",
            "jpg/image_0378.jpg\n",
            "jpg/image_0379.jpg\n",
            "jpg/image_0380.jpg\n",
            "jpg/image_0381.jpg\n",
            "jpg/image_0382.jpg\n",
            "jpg/image_0383.jpg\n",
            "jpg/image_0384.jpg\n",
            "jpg/image_0385.jpg\n",
            "jpg/image_0386.jpg\n",
            "jpg/image_0387.jpg\n",
            "jpg/image_0388.jpg\n",
            "jpg/image_0389.jpg\n",
            "jpg/image_0390.jpg\n",
            "jpg/image_0391.jpg\n",
            "jpg/image_0392.jpg\n",
            "jpg/image_0393.jpg\n",
            "jpg/image_0394.jpg\n",
            "jpg/image_0395.jpg\n",
            "jpg/image_0396.jpg\n",
            "jpg/image_0397.jpg\n",
            "jpg/image_0398.jpg\n",
            "jpg/image_0399.jpg\n",
            "jpg/image_0400.jpg\n",
            "jpg/image_0401.jpg\n",
            "jpg/image_0402.jpg\n",
            "jpg/image_0403.jpg\n",
            "jpg/image_0404.jpg\n",
            "jpg/image_0405.jpg\n",
            "jpg/image_0406.jpg\n",
            "jpg/image_0407.jpg\n",
            "jpg/image_0408.jpg\n",
            "jpg/image_0409.jpg\n",
            "jpg/image_0410.jpg\n",
            "jpg/image_0411.jpg\n",
            "jpg/image_0412.jpg\n",
            "jpg/image_0413.jpg\n",
            "jpg/image_0414.jpg\n",
            "jpg/image_0415.jpg\n",
            "jpg/image_0416.jpg\n",
            "jpg/image_0417.jpg\n",
            "jpg/image_0418.jpg\n",
            "jpg/image_0419.jpg\n",
            "jpg/image_0420.jpg\n",
            "jpg/image_0421.jpg\n",
            "jpg/image_0422.jpg\n",
            "jpg/image_0423.jpg\n",
            "jpg/image_0424.jpg\n",
            "jpg/image_0425.jpg\n",
            "jpg/image_0426.jpg\n",
            "jpg/image_0427.jpg\n",
            "jpg/image_0428.jpg\n",
            "jpg/image_0429.jpg\n",
            "jpg/image_0430.jpg\n",
            "jpg/image_0431.jpg\n",
            "jpg/image_0432.jpg\n",
            "jpg/image_0433.jpg\n",
            "jpg/image_0434.jpg\n",
            "jpg/image_0435.jpg\n",
            "jpg/image_0436.jpg\n",
            "jpg/image_0437.jpg\n",
            "jpg/image_0438.jpg\n",
            "jpg/image_0439.jpg\n",
            "jpg/image_0440.jpg\n",
            "jpg/image_0441.jpg\n",
            "jpg/image_0442.jpg\n",
            "jpg/image_0443.jpg\n",
            "jpg/image_0444.jpg\n",
            "jpg/image_0445.jpg\n",
            "jpg/image_0446.jpg\n",
            "jpg/image_0447.jpg\n",
            "jpg/image_0448.jpg\n",
            "jpg/image_0449.jpg\n",
            "jpg/image_0450.jpg\n",
            "jpg/image_0451.jpg\n",
            "jpg/image_0452.jpg\n",
            "jpg/image_0453.jpg\n",
            "jpg/image_0454.jpg\n",
            "jpg/image_0455.jpg\n",
            "jpg/image_0456.jpg\n",
            "jpg/image_0457.jpg\n",
            "jpg/image_0458.jpg\n",
            "jpg/image_0459.jpg\n",
            "jpg/image_0460.jpg\n",
            "jpg/image_0461.jpg\n",
            "jpg/image_0462.jpg\n",
            "jpg/image_0463.jpg\n",
            "jpg/image_0464.jpg\n",
            "jpg/image_0465.jpg\n",
            "jpg/image_0466.jpg\n",
            "jpg/image_0467.jpg\n",
            "jpg/image_0468.jpg\n",
            "jpg/image_0469.jpg\n",
            "jpg/image_0470.jpg\n",
            "jpg/image_0471.jpg\n",
            "jpg/image_0472.jpg\n",
            "jpg/image_0473.jpg\n",
            "jpg/image_0474.jpg\n",
            "jpg/image_0475.jpg\n",
            "jpg/image_0476.jpg\n",
            "jpg/image_0477.jpg\n",
            "jpg/image_0478.jpg\n",
            "jpg/image_0479.jpg\n",
            "jpg/image_0480.jpg\n",
            "jpg/image_0481.jpg\n",
            "jpg/image_0482.jpg\n",
            "jpg/image_0483.jpg\n",
            "jpg/image_0484.jpg\n",
            "jpg/image_0485.jpg\n",
            "jpg/image_0486.jpg\n",
            "jpg/image_0487.jpg\n",
            "jpg/image_0488.jpg\n",
            "jpg/image_0489.jpg\n",
            "jpg/image_0490.jpg\n",
            "jpg/image_0491.jpg\n",
            "jpg/image_0492.jpg\n",
            "jpg/image_0493.jpg\n",
            "jpg/image_0494.jpg\n",
            "jpg/image_0495.jpg\n",
            "jpg/image_0496.jpg\n",
            "jpg/image_0497.jpg\n",
            "jpg/image_0498.jpg\n",
            "jpg/image_0499.jpg\n",
            "jpg/image_0500.jpg\n",
            "jpg/image_0501.jpg\n",
            "jpg/image_0502.jpg\n",
            "jpg/image_0503.jpg\n",
            "jpg/image_0504.jpg\n",
            "jpg/image_0505.jpg\n",
            "jpg/image_0506.jpg\n",
            "jpg/image_0507.jpg\n",
            "jpg/image_0508.jpg\n",
            "jpg/image_0509.jpg\n",
            "jpg/image_0510.jpg\n",
            "jpg/image_0511.jpg\n",
            "jpg/image_0512.jpg\n",
            "jpg/image_0513.jpg\n",
            "jpg/image_0514.jpg\n",
            "jpg/image_0515.jpg\n",
            "jpg/image_0516.jpg\n",
            "jpg/image_0517.jpg\n",
            "jpg/image_0518.jpg\n",
            "jpg/image_0519.jpg\n",
            "jpg/image_0520.jpg\n",
            "jpg/image_0521.jpg\n",
            "jpg/image_0522.jpg\n",
            "jpg/image_0523.jpg\n",
            "jpg/image_0524.jpg\n",
            "jpg/image_0525.jpg\n",
            "jpg/image_0526.jpg\n",
            "jpg/image_0527.jpg\n",
            "jpg/image_0528.jpg\n",
            "jpg/image_0529.jpg\n",
            "jpg/image_0530.jpg\n",
            "jpg/image_0531.jpg\n",
            "jpg/image_0532.jpg\n",
            "jpg/image_0533.jpg\n",
            "jpg/image_0534.jpg\n",
            "jpg/image_0535.jpg\n",
            "jpg/image_0536.jpg\n",
            "jpg/image_0537.jpg\n",
            "jpg/image_0538.jpg\n",
            "jpg/image_0539.jpg\n",
            "jpg/image_0540.jpg\n",
            "jpg/image_0541.jpg\n",
            "jpg/image_0542.jpg\n",
            "jpg/image_0543.jpg\n",
            "jpg/image_0544.jpg\n",
            "jpg/image_0545.jpg\n",
            "jpg/image_0546.jpg\n",
            "jpg/image_0547.jpg\n",
            "jpg/image_0548.jpg\n",
            "jpg/image_0549.jpg\n",
            "jpg/image_0550.jpg\n",
            "jpg/image_0551.jpg\n",
            "jpg/image_0552.jpg\n",
            "jpg/image_0553.jpg\n",
            "jpg/image_0554.jpg\n",
            "jpg/image_0555.jpg\n",
            "jpg/image_0556.jpg\n",
            "jpg/image_0557.jpg\n",
            "jpg/image_0558.jpg\n",
            "jpg/image_0559.jpg\n",
            "jpg/image_0560.jpg\n",
            "jpg/image_0561.jpg\n",
            "jpg/image_0562.jpg\n",
            "jpg/image_0563.jpg\n",
            "jpg/image_0564.jpg\n",
            "jpg/image_0565.jpg\n",
            "jpg/image_0566.jpg\n",
            "jpg/image_0567.jpg\n",
            "jpg/image_0568.jpg\n",
            "jpg/image_0569.jpg\n",
            "jpg/image_0570.jpg\n",
            "jpg/image_0571.jpg\n",
            "jpg/image_0572.jpg\n",
            "jpg/image_0573.jpg\n",
            "jpg/image_0574.jpg\n",
            "jpg/image_0575.jpg\n",
            "jpg/image_0576.jpg\n",
            "jpg/image_0577.jpg\n",
            "jpg/image_0578.jpg\n",
            "jpg/image_0579.jpg\n",
            "jpg/image_0580.jpg\n",
            "jpg/image_0581.jpg\n",
            "jpg/image_0582.jpg\n",
            "jpg/image_0583.jpg\n",
            "jpg/image_0584.jpg\n",
            "jpg/image_0585.jpg\n",
            "jpg/image_0586.jpg\n",
            "jpg/image_0587.jpg\n",
            "jpg/image_0588.jpg\n",
            "jpg/image_0589.jpg\n",
            "jpg/image_0590.jpg\n",
            "jpg/image_0591.jpg\n",
            "jpg/image_0592.jpg\n",
            "jpg/image_0593.jpg\n",
            "jpg/image_0594.jpg\n",
            "jpg/image_0595.jpg\n",
            "jpg/image_0596.jpg\n",
            "jpg/image_0597.jpg\n",
            "jpg/image_0598.jpg\n",
            "jpg/image_0599.jpg\n",
            "jpg/image_0600.jpg\n",
            "jpg/image_0601.jpg\n",
            "jpg/image_0602.jpg\n",
            "jpg/image_0603.jpg\n",
            "jpg/image_0604.jpg\n",
            "jpg/image_0605.jpg\n",
            "jpg/image_0606.jpg\n",
            "jpg/image_0607.jpg\n",
            "jpg/image_0608.jpg\n",
            "jpg/image_0609.jpg\n",
            "jpg/image_0610.jpg\n",
            "jpg/image_0611.jpg\n",
            "jpg/image_0612.jpg\n",
            "jpg/image_0613.jpg\n",
            "jpg/image_0614.jpg\n",
            "jpg/image_0615.jpg\n",
            "jpg/image_0616.jpg\n",
            "jpg/image_0617.jpg\n",
            "jpg/image_0618.jpg\n",
            "jpg/image_0619.jpg\n",
            "jpg/image_0620.jpg\n",
            "jpg/image_0621.jpg\n",
            "jpg/image_0622.jpg\n",
            "jpg/image_0623.jpg\n",
            "jpg/image_0624.jpg\n",
            "jpg/image_0625.jpg\n",
            "jpg/image_0626.jpg\n",
            "jpg/image_0627.jpg\n",
            "jpg/image_0628.jpg\n",
            "jpg/image_0629.jpg\n",
            "jpg/image_0630.jpg\n",
            "jpg/image_0631.jpg\n",
            "jpg/image_0632.jpg\n",
            "jpg/image_0633.jpg\n",
            "jpg/image_0634.jpg\n",
            "jpg/image_0635.jpg\n",
            "jpg/image_0636.jpg\n",
            "jpg/image_0637.jpg\n",
            "jpg/image_0638.jpg\n",
            "jpg/image_0639.jpg\n",
            "jpg/image_0640.jpg\n",
            "jpg/image_0641.jpg\n",
            "jpg/image_0642.jpg\n",
            "jpg/image_0643.jpg\n",
            "jpg/image_0644.jpg\n",
            "jpg/image_0645.jpg\n",
            "jpg/image_0646.jpg\n",
            "jpg/image_0647.jpg\n",
            "jpg/image_0648.jpg\n",
            "jpg/image_0649.jpg\n",
            "jpg/image_0650.jpg\n",
            "jpg/image_0651.jpg\n",
            "jpg/image_0652.jpg\n",
            "jpg/image_0653.jpg\n",
            "jpg/image_0654.jpg\n",
            "jpg/image_0655.jpg\n",
            "jpg/image_0656.jpg\n",
            "jpg/image_0657.jpg\n",
            "jpg/image_0658.jpg\n",
            "jpg/image_0659.jpg\n",
            "jpg/image_0660.jpg\n",
            "jpg/image_0661.jpg\n",
            "jpg/image_0662.jpg\n",
            "jpg/image_0663.jpg\n",
            "jpg/image_0664.jpg\n",
            "jpg/image_0665.jpg\n",
            "jpg/image_0666.jpg\n",
            "jpg/image_0667.jpg\n",
            "jpg/image_0668.jpg\n",
            "jpg/image_0669.jpg\n",
            "jpg/image_0670.jpg\n",
            "jpg/image_0671.jpg\n",
            "jpg/image_0672.jpg\n",
            "jpg/image_0673.jpg\n",
            "jpg/image_0674.jpg\n",
            "jpg/image_0675.jpg\n",
            "jpg/image_0676.jpg\n",
            "jpg/image_0677.jpg\n",
            "jpg/image_0678.jpg\n",
            "jpg/image_0679.jpg\n",
            "jpg/image_0680.jpg\n",
            "jpg/image_0681.jpg\n",
            "jpg/image_0682.jpg\n",
            "jpg/image_0683.jpg\n",
            "jpg/image_0684.jpg\n",
            "jpg/image_0685.jpg\n",
            "jpg/image_0686.jpg\n",
            "jpg/image_0687.jpg\n",
            "jpg/image_0688.jpg\n",
            "jpg/image_0689.jpg\n",
            "jpg/image_0690.jpg\n",
            "jpg/image_0691.jpg\n",
            "jpg/image_0692.jpg\n",
            "jpg/image_0693.jpg\n",
            "jpg/image_0694.jpg\n",
            "jpg/image_0695.jpg\n",
            "jpg/image_0696.jpg\n",
            "jpg/image_0697.jpg\n",
            "jpg/image_0698.jpg\n",
            "jpg/image_0699.jpg\n",
            "jpg/image_0700.jpg\n",
            "jpg/image_0701.jpg\n",
            "jpg/image_0702.jpg\n",
            "jpg/image_0703.jpg\n",
            "jpg/image_0704.jpg\n",
            "jpg/image_0705.jpg\n",
            "jpg/image_0706.jpg\n",
            "jpg/image_0707.jpg\n",
            "jpg/image_0708.jpg\n",
            "jpg/image_0709.jpg\n",
            "jpg/image_0710.jpg\n",
            "jpg/image_0711.jpg\n",
            "jpg/image_0712.jpg\n",
            "jpg/image_0713.jpg\n",
            "jpg/image_0714.jpg\n",
            "jpg/image_0715.jpg\n",
            "jpg/image_0716.jpg\n",
            "jpg/image_0717.jpg\n",
            "jpg/image_0718.jpg\n",
            "jpg/image_0719.jpg\n",
            "jpg/image_0720.jpg\n",
            "jpg/image_0721.jpg\n",
            "jpg/image_0722.jpg\n",
            "jpg/image_0723.jpg\n",
            "jpg/image_0724.jpg\n",
            "jpg/image_0725.jpg\n",
            "jpg/image_0726.jpg\n",
            "jpg/image_0727.jpg\n",
            "jpg/image_0728.jpg\n",
            "jpg/image_0729.jpg\n",
            "jpg/image_0730.jpg\n",
            "jpg/image_0731.jpg\n",
            "jpg/image_0732.jpg\n",
            "jpg/image_0733.jpg\n",
            "jpg/image_0734.jpg\n",
            "jpg/image_0735.jpg\n",
            "jpg/image_0736.jpg\n",
            "jpg/image_0737.jpg\n",
            "jpg/image_0738.jpg\n",
            "jpg/image_0739.jpg\n",
            "jpg/image_0740.jpg\n",
            "jpg/image_0741.jpg\n",
            "jpg/image_0742.jpg\n",
            "jpg/image_0743.jpg\n",
            "jpg/image_0744.jpg\n",
            "jpg/image_0745.jpg\n",
            "jpg/image_0746.jpg\n",
            "jpg/image_0747.jpg\n",
            "jpg/image_0748.jpg\n",
            "jpg/image_0749.jpg\n",
            "jpg/image_0750.jpg\n",
            "jpg/image_0751.jpg\n",
            "jpg/image_0752.jpg\n",
            "jpg/image_0753.jpg\n",
            "jpg/image_0754.jpg\n",
            "jpg/image_0755.jpg\n",
            "jpg/image_0756.jpg\n",
            "jpg/image_0757.jpg\n",
            "jpg/image_0758.jpg\n",
            "jpg/image_0759.jpg\n",
            "jpg/image_0760.jpg\n",
            "jpg/image_0761.jpg\n",
            "jpg/image_0762.jpg\n",
            "jpg/image_0763.jpg\n",
            "jpg/image_0764.jpg\n",
            "jpg/image_0765.jpg\n",
            "jpg/image_0766.jpg\n",
            "jpg/image_0767.jpg\n",
            "jpg/image_0768.jpg\n",
            "jpg/image_0769.jpg\n",
            "jpg/image_0770.jpg\n",
            "jpg/image_0771.jpg\n",
            "jpg/image_0772.jpg\n",
            "jpg/image_0773.jpg\n",
            "jpg/image_0774.jpg\n",
            "jpg/image_0775.jpg\n",
            "jpg/image_0776.jpg\n",
            "jpg/image_0777.jpg\n",
            "jpg/image_0778.jpg\n",
            "jpg/image_0779.jpg\n",
            "jpg/image_0780.jpg\n",
            "jpg/image_0781.jpg\n",
            "jpg/image_0782.jpg\n",
            "jpg/image_0783.jpg\n",
            "jpg/image_0784.jpg\n",
            "jpg/image_0785.jpg\n",
            "jpg/image_0786.jpg\n",
            "jpg/image_0787.jpg\n",
            "jpg/image_0788.jpg\n",
            "jpg/image_0789.jpg\n",
            "jpg/image_0790.jpg\n",
            "jpg/image_0791.jpg\n",
            "jpg/image_0792.jpg\n",
            "jpg/image_0793.jpg\n",
            "jpg/image_0794.jpg\n",
            "jpg/image_0795.jpg\n",
            "jpg/image_0796.jpg\n",
            "jpg/image_0797.jpg\n",
            "jpg/image_0798.jpg\n",
            "jpg/image_0799.jpg\n",
            "jpg/image_0800.jpg\n",
            "jpg/image_0801.jpg\n",
            "jpg/image_0802.jpg\n",
            "jpg/image_0803.jpg\n",
            "jpg/image_0804.jpg\n",
            "jpg/image_0805.jpg\n",
            "jpg/image_0806.jpg\n",
            "jpg/image_0807.jpg\n",
            "jpg/image_0808.jpg\n",
            "jpg/image_0809.jpg\n",
            "jpg/image_0810.jpg\n",
            "jpg/image_0811.jpg\n",
            "jpg/image_0812.jpg\n",
            "jpg/image_0813.jpg\n",
            "jpg/image_0814.jpg\n",
            "jpg/image_0815.jpg\n",
            "jpg/image_0816.jpg\n",
            "jpg/image_0817.jpg\n",
            "jpg/image_0818.jpg\n",
            "jpg/image_0819.jpg\n",
            "jpg/image_0820.jpg\n",
            "jpg/image_0821.jpg\n",
            "jpg/image_0822.jpg\n",
            "jpg/image_0823.jpg\n",
            "jpg/image_0824.jpg\n",
            "jpg/image_0825.jpg\n",
            "jpg/image_0826.jpg\n",
            "jpg/image_0827.jpg\n",
            "jpg/image_0828.jpg\n",
            "jpg/image_0829.jpg\n",
            "jpg/image_0830.jpg\n",
            "jpg/image_0831.jpg\n",
            "jpg/image_0832.jpg\n",
            "jpg/image_0833.jpg\n",
            "jpg/image_0834.jpg\n",
            "jpg/image_0835.jpg\n",
            "jpg/image_0836.jpg\n",
            "jpg/image_0837.jpg\n",
            "jpg/image_0838.jpg\n",
            "jpg/image_0839.jpg\n",
            "jpg/image_0840.jpg\n",
            "jpg/image_0841.jpg\n",
            "jpg/image_0842.jpg\n",
            "jpg/image_0843.jpg\n",
            "jpg/image_0844.jpg\n",
            "jpg/image_0845.jpg\n",
            "jpg/image_0846.jpg\n",
            "jpg/image_0847.jpg\n",
            "jpg/image_0848.jpg\n",
            "jpg/image_0849.jpg\n",
            "jpg/image_0850.jpg\n",
            "jpg/image_0851.jpg\n",
            "jpg/image_0852.jpg\n",
            "jpg/image_0853.jpg\n",
            "jpg/image_0854.jpg\n",
            "jpg/image_0855.jpg\n",
            "jpg/image_0856.jpg\n",
            "jpg/image_0857.jpg\n",
            "jpg/image_0858.jpg\n",
            "jpg/image_0859.jpg\n",
            "jpg/image_0860.jpg\n",
            "jpg/image_0861.jpg\n",
            "jpg/image_0862.jpg\n",
            "jpg/image_0863.jpg\n",
            "jpg/image_0864.jpg\n",
            "jpg/image_0865.jpg\n",
            "jpg/image_0866.jpg\n",
            "jpg/image_0867.jpg\n",
            "jpg/image_0868.jpg\n",
            "jpg/image_0869.jpg\n",
            "jpg/image_0870.jpg\n",
            "jpg/image_0871.jpg\n",
            "jpg/image_0872.jpg\n",
            "jpg/image_0873.jpg\n",
            "jpg/image_0874.jpg\n",
            "jpg/image_0875.jpg\n",
            "jpg/image_0876.jpg\n",
            "jpg/image_0877.jpg\n",
            "jpg/image_0878.jpg\n",
            "jpg/image_0879.jpg\n",
            "jpg/image_0880.jpg\n",
            "jpg/image_0881.jpg\n",
            "jpg/image_0882.jpg\n",
            "jpg/image_0883.jpg\n",
            "jpg/image_0884.jpg\n",
            "jpg/image_0885.jpg\n",
            "jpg/image_0886.jpg\n",
            "jpg/image_0887.jpg\n",
            "jpg/image_0888.jpg\n",
            "jpg/image_0889.jpg\n",
            "jpg/image_0890.jpg\n",
            "jpg/image_0891.jpg\n",
            "jpg/image_0892.jpg\n",
            "jpg/image_0893.jpg\n",
            "jpg/image_0894.jpg\n",
            "jpg/image_0895.jpg\n",
            "jpg/image_0896.jpg\n",
            "jpg/image_0897.jpg\n",
            "jpg/image_0898.jpg\n",
            "jpg/image_0899.jpg\n",
            "jpg/image_0900.jpg\n",
            "jpg/image_0901.jpg\n",
            "jpg/image_0902.jpg\n",
            "jpg/image_0903.jpg\n",
            "jpg/image_0904.jpg\n",
            "jpg/image_0905.jpg\n",
            "jpg/image_0906.jpg\n",
            "jpg/image_0907.jpg\n",
            "jpg/image_0908.jpg\n",
            "jpg/image_0909.jpg\n",
            "jpg/image_0910.jpg\n",
            "jpg/image_0911.jpg\n",
            "jpg/image_0912.jpg\n",
            "jpg/image_0913.jpg\n",
            "jpg/image_0914.jpg\n",
            "jpg/image_0915.jpg\n",
            "jpg/image_0916.jpg\n",
            "jpg/image_0917.jpg\n",
            "jpg/image_0918.jpg\n",
            "jpg/image_0919.jpg\n",
            "jpg/image_0920.jpg\n",
            "jpg/image_0921.jpg\n",
            "jpg/image_0922.jpg\n",
            "jpg/image_0923.jpg\n",
            "jpg/image_0924.jpg\n",
            "jpg/image_0925.jpg\n",
            "jpg/image_0926.jpg\n",
            "jpg/image_0927.jpg\n",
            "jpg/image_0928.jpg\n",
            "jpg/image_0929.jpg\n",
            "jpg/image_0930.jpg\n",
            "jpg/image_0931.jpg\n",
            "jpg/image_0932.jpg\n",
            "jpg/image_0933.jpg\n",
            "jpg/image_0934.jpg\n",
            "jpg/image_0935.jpg\n",
            "jpg/image_0936.jpg\n",
            "jpg/image_0937.jpg\n",
            "jpg/image_0938.jpg\n",
            "jpg/image_0939.jpg\n",
            "jpg/image_0940.jpg\n",
            "jpg/image_0941.jpg\n",
            "jpg/image_0942.jpg\n",
            "jpg/image_0943.jpg\n",
            "jpg/image_0944.jpg\n",
            "jpg/image_0945.jpg\n",
            "jpg/image_0946.jpg\n",
            "jpg/image_0947.jpg\n",
            "jpg/image_0948.jpg\n",
            "jpg/image_0949.jpg\n",
            "jpg/image_0950.jpg\n",
            "jpg/image_0951.jpg\n",
            "jpg/image_0952.jpg\n",
            "jpg/image_0953.jpg\n",
            "jpg/image_0954.jpg\n",
            "jpg/image_0955.jpg\n",
            "jpg/image_0956.jpg\n",
            "jpg/image_0957.jpg\n",
            "jpg/image_0958.jpg\n",
            "jpg/image_0959.jpg\n",
            "jpg/image_0960.jpg\n",
            "jpg/image_0961.jpg\n",
            "jpg/image_0962.jpg\n",
            "jpg/image_0963.jpg\n",
            "jpg/image_0964.jpg\n",
            "jpg/image_0965.jpg\n",
            "jpg/image_0966.jpg\n",
            "jpg/image_0967.jpg\n",
            "jpg/image_0968.jpg\n",
            "jpg/image_0969.jpg\n",
            "jpg/image_0970.jpg\n",
            "jpg/image_0971.jpg\n",
            "jpg/image_0972.jpg\n",
            "jpg/image_0973.jpg\n",
            "jpg/image_0974.jpg\n",
            "jpg/image_0975.jpg\n",
            "jpg/image_0976.jpg\n",
            "jpg/image_0977.jpg\n",
            "jpg/image_0978.jpg\n",
            "jpg/image_0979.jpg\n",
            "jpg/image_0980.jpg\n",
            "jpg/image_0981.jpg\n",
            "jpg/image_0982.jpg\n",
            "jpg/image_0983.jpg\n",
            "jpg/image_0984.jpg\n",
            "jpg/image_0985.jpg\n",
            "jpg/image_0986.jpg\n",
            "jpg/image_0987.jpg\n",
            "jpg/image_0988.jpg\n",
            "jpg/image_0989.jpg\n",
            "jpg/image_0990.jpg\n",
            "jpg/image_0991.jpg\n",
            "jpg/image_0992.jpg\n",
            "jpg/image_0993.jpg\n",
            "jpg/image_0994.jpg\n",
            "jpg/image_0995.jpg\n",
            "jpg/image_0996.jpg\n",
            "jpg/image_0997.jpg\n",
            "jpg/image_0998.jpg\n",
            "jpg/image_0999.jpg\n",
            "jpg/image_1000.jpg\n",
            "jpg/image_1001.jpg\n",
            "jpg/image_1002.jpg\n",
            "jpg/image_1003.jpg\n",
            "jpg/image_1004.jpg\n",
            "jpg/image_1005.jpg\n",
            "jpg/image_1006.jpg\n",
            "jpg/image_1007.jpg\n",
            "jpg/image_1008.jpg\n",
            "jpg/image_1009.jpg\n",
            "jpg/image_1010.jpg\n",
            "jpg/image_1011.jpg\n",
            "jpg/image_1012.jpg\n",
            "jpg/image_1013.jpg\n",
            "jpg/image_1014.jpg\n",
            "jpg/image_1015.jpg\n",
            "jpg/image_1016.jpg\n",
            "jpg/image_1017.jpg\n",
            "jpg/image_1018.jpg\n",
            "jpg/image_1019.jpg\n",
            "jpg/image_1020.jpg\n",
            "jpg/image_1021.jpg\n",
            "jpg/image_1022.jpg\n",
            "jpg/image_1023.jpg\n",
            "jpg/image_1024.jpg\n",
            "jpg/image_1025.jpg\n",
            "jpg/image_1026.jpg\n",
            "jpg/image_1027.jpg\n",
            "jpg/image_1028.jpg\n",
            "jpg/image_1029.jpg\n",
            "jpg/image_1030.jpg\n",
            "jpg/image_1031.jpg\n",
            "jpg/image_1032.jpg\n",
            "jpg/image_1033.jpg\n",
            "jpg/image_1034.jpg\n",
            "jpg/image_1035.jpg\n",
            "jpg/image_1036.jpg\n",
            "jpg/image_1037.jpg\n",
            "jpg/image_1038.jpg\n",
            "jpg/image_1039.jpg\n",
            "jpg/image_1040.jpg\n",
            "jpg/image_1041.jpg\n",
            "jpg/image_1042.jpg\n",
            "jpg/image_1043.jpg\n",
            "jpg/image_1044.jpg\n",
            "jpg/image_1045.jpg\n",
            "jpg/image_1046.jpg\n",
            "jpg/image_1047.jpg\n",
            "jpg/image_1048.jpg\n",
            "jpg/image_1049.jpg\n",
            "jpg/image_1050.jpg\n",
            "jpg/image_1051.jpg\n",
            "jpg/image_1052.jpg\n",
            "jpg/image_1053.jpg\n",
            "jpg/image_1054.jpg\n",
            "jpg/image_1055.jpg\n",
            "jpg/image_1056.jpg\n",
            "jpg/image_1057.jpg\n",
            "jpg/image_1058.jpg\n",
            "jpg/image_1059.jpg\n",
            "jpg/image_1060.jpg\n",
            "jpg/image_1061.jpg\n",
            "jpg/image_1062.jpg\n",
            "jpg/image_1063.jpg\n",
            "jpg/image_1064.jpg\n",
            "jpg/image_1065.jpg\n",
            "jpg/image_1066.jpg\n",
            "jpg/image_1067.jpg\n",
            "jpg/image_1068.jpg\n",
            "jpg/image_1069.jpg\n",
            "jpg/image_1070.jpg\n",
            "jpg/image_1071.jpg\n",
            "jpg/image_1072.jpg\n",
            "jpg/image_1073.jpg\n",
            "jpg/image_1074.jpg\n",
            "jpg/image_1075.jpg\n",
            "jpg/image_1076.jpg\n",
            "jpg/image_1077.jpg\n",
            "jpg/image_1078.jpg\n",
            "jpg/image_1079.jpg\n",
            "jpg/image_1080.jpg\n",
            "jpg/image_1081.jpg\n",
            "jpg/image_1082.jpg\n",
            "jpg/image_1083.jpg\n",
            "jpg/image_1084.jpg\n",
            "jpg/image_1085.jpg\n",
            "jpg/image_1086.jpg\n",
            "jpg/image_1087.jpg\n",
            "jpg/image_1088.jpg\n",
            "jpg/image_1089.jpg\n",
            "jpg/image_1090.jpg\n",
            "jpg/image_1091.jpg\n",
            "jpg/image_1092.jpg\n",
            "jpg/image_1093.jpg\n",
            "jpg/image_1094.jpg\n",
            "jpg/image_1095.jpg\n",
            "jpg/image_1096.jpg\n",
            "jpg/image_1097.jpg\n",
            "jpg/image_1098.jpg\n",
            "jpg/image_1099.jpg\n",
            "jpg/image_1100.jpg\n",
            "jpg/image_1101.jpg\n",
            "jpg/image_1102.jpg\n",
            "jpg/image_1103.jpg\n",
            "jpg/image_1104.jpg\n",
            "jpg/image_1105.jpg\n",
            "jpg/image_1106.jpg\n",
            "jpg/image_1107.jpg\n",
            "jpg/image_1108.jpg\n",
            "jpg/image_1109.jpg\n",
            "jpg/image_1110.jpg\n",
            "jpg/image_1111.jpg\n",
            "jpg/image_1112.jpg\n",
            "jpg/image_1113.jpg\n",
            "jpg/image_1114.jpg\n",
            "jpg/image_1115.jpg\n",
            "jpg/image_1116.jpg\n",
            "jpg/image_1117.jpg\n",
            "jpg/image_1118.jpg\n",
            "jpg/image_1119.jpg\n",
            "jpg/image_1120.jpg\n",
            "jpg/image_1121.jpg\n",
            "jpg/image_1122.jpg\n",
            "jpg/image_1123.jpg\n",
            "jpg/image_1124.jpg\n",
            "jpg/image_1125.jpg\n",
            "jpg/image_1126.jpg\n",
            "jpg/image_1127.jpg\n",
            "jpg/image_1128.jpg\n",
            "jpg/image_1129.jpg\n",
            "jpg/image_1130.jpg\n",
            "jpg/image_1131.jpg\n",
            "jpg/image_1132.jpg\n",
            "jpg/image_1133.jpg\n",
            "jpg/image_1134.jpg\n",
            "jpg/image_1135.jpg\n",
            "jpg/image_1136.jpg\n",
            "jpg/image_1137.jpg\n",
            "jpg/image_1138.jpg\n",
            "jpg/image_1139.jpg\n",
            "jpg/image_1140.jpg\n",
            "jpg/image_1141.jpg\n",
            "jpg/image_1142.jpg\n",
            "jpg/image_1143.jpg\n",
            "jpg/image_1144.jpg\n",
            "jpg/image_1145.jpg\n",
            "jpg/image_1146.jpg\n",
            "jpg/image_1147.jpg\n",
            "jpg/image_1148.jpg\n",
            "jpg/image_1149.jpg\n",
            "jpg/image_1150.jpg\n",
            "jpg/image_1151.jpg\n",
            "jpg/image_1152.jpg\n",
            "jpg/image_1153.jpg\n",
            "jpg/image_1154.jpg\n",
            "jpg/image_1155.jpg\n",
            "jpg/image_1156.jpg\n",
            "jpg/image_1157.jpg\n",
            "jpg/image_1158.jpg\n",
            "jpg/image_1159.jpg\n",
            "jpg/image_1160.jpg\n",
            "jpg/image_1161.jpg\n",
            "jpg/image_1162.jpg\n",
            "jpg/image_1163.jpg\n",
            "jpg/image_1164.jpg\n",
            "jpg/image_1165.jpg\n",
            "jpg/image_1166.jpg\n",
            "jpg/image_1167.jpg\n",
            "jpg/image_1168.jpg\n",
            "jpg/image_1169.jpg\n",
            "jpg/image_1170.jpg\n",
            "jpg/image_1171.jpg\n",
            "jpg/image_1172.jpg\n",
            "jpg/image_1173.jpg\n",
            "jpg/image_1174.jpg\n",
            "jpg/image_1175.jpg\n",
            "jpg/image_1176.jpg\n",
            "jpg/image_1177.jpg\n",
            "jpg/image_1178.jpg\n",
            "jpg/image_1179.jpg\n",
            "jpg/image_1180.jpg\n",
            "jpg/image_1181.jpg\n",
            "jpg/image_1182.jpg\n",
            "jpg/image_1183.jpg\n",
            "jpg/image_1184.jpg\n",
            "jpg/image_1185.jpg\n",
            "jpg/image_1186.jpg\n",
            "jpg/image_1187.jpg\n",
            "jpg/image_1188.jpg\n",
            "jpg/image_1189.jpg\n",
            "jpg/image_1190.jpg\n",
            "jpg/image_1191.jpg\n",
            "jpg/image_1192.jpg\n",
            "jpg/image_1193.jpg\n",
            "jpg/image_1194.jpg\n",
            "jpg/image_1195.jpg\n",
            "jpg/image_1196.jpg\n",
            "jpg/image_1197.jpg\n",
            "jpg/image_1198.jpg\n",
            "jpg/image_1199.jpg\n",
            "jpg/image_1200.jpg\n",
            "jpg/image_1201.jpg\n",
            "jpg/image_1202.jpg\n",
            "jpg/image_1203.jpg\n",
            "jpg/image_1204.jpg\n",
            "jpg/image_1205.jpg\n",
            "jpg/image_1206.jpg\n",
            "jpg/image_1207.jpg\n",
            "jpg/image_1208.jpg\n",
            "jpg/image_1209.jpg\n",
            "jpg/image_1210.jpg\n",
            "jpg/image_1211.jpg\n",
            "jpg/image_1212.jpg\n",
            "jpg/image_1213.jpg\n",
            "jpg/image_1214.jpg\n",
            "jpg/image_1215.jpg\n",
            "jpg/image_1216.jpg\n",
            "jpg/image_1217.jpg\n",
            "jpg/image_1218.jpg\n",
            "jpg/image_1219.jpg\n",
            "jpg/image_1220.jpg\n",
            "jpg/image_1221.jpg\n",
            "jpg/image_1222.jpg\n",
            "jpg/image_1223.jpg\n",
            "jpg/image_1224.jpg\n",
            "jpg/image_1225.jpg\n",
            "jpg/image_1226.jpg\n",
            "jpg/image_1227.jpg\n",
            "jpg/image_1228.jpg\n",
            "jpg/image_1229.jpg\n",
            "jpg/image_1230.jpg\n",
            "jpg/image_1231.jpg\n",
            "jpg/image_1232.jpg\n",
            "jpg/image_1233.jpg\n",
            "jpg/image_1234.jpg\n",
            "jpg/image_1235.jpg\n",
            "jpg/image_1236.jpg\n",
            "jpg/image_1237.jpg\n",
            "jpg/image_1238.jpg\n",
            "jpg/image_1239.jpg\n",
            "jpg/image_1240.jpg\n",
            "jpg/image_1241.jpg\n",
            "jpg/image_1242.jpg\n",
            "jpg/image_1243.jpg\n",
            "jpg/image_1244.jpg\n",
            "jpg/image_1245.jpg\n",
            "jpg/image_1246.jpg\n",
            "jpg/image_1247.jpg\n",
            "jpg/image_1248.jpg\n",
            "jpg/image_1249.jpg\n",
            "jpg/image_1250.jpg\n",
            "jpg/image_1251.jpg\n",
            "jpg/image_1252.jpg\n",
            "jpg/image_1253.jpg\n",
            "jpg/image_1254.jpg\n",
            "jpg/image_1255.jpg\n",
            "jpg/image_1256.jpg\n",
            "jpg/image_1257.jpg\n",
            "jpg/image_1258.jpg\n",
            "jpg/image_1259.jpg\n",
            "jpg/image_1260.jpg\n",
            "jpg/image_1261.jpg\n",
            "jpg/image_1262.jpg\n",
            "jpg/image_1263.jpg\n",
            "jpg/image_1264.jpg\n",
            "jpg/image_1265.jpg\n",
            "jpg/image_1266.jpg\n",
            "jpg/image_1267.jpg\n",
            "jpg/image_1268.jpg\n",
            "jpg/image_1269.jpg\n",
            "jpg/image_1270.jpg\n",
            "jpg/image_1271.jpg\n",
            "jpg/image_1272.jpg\n",
            "jpg/image_1273.jpg\n",
            "jpg/image_1274.jpg\n",
            "jpg/image_1275.jpg\n",
            "jpg/image_1276.jpg\n",
            "jpg/image_1277.jpg\n",
            "jpg/image_1278.jpg\n",
            "jpg/image_1279.jpg\n",
            "jpg/image_1280.jpg\n",
            "jpg/image_1281.jpg\n",
            "jpg/image_1282.jpg\n",
            "jpg/image_1283.jpg\n",
            "jpg/image_1284.jpg\n",
            "jpg/image_1285.jpg\n",
            "jpg/image_1286.jpg\n",
            "jpg/image_1287.jpg\n",
            "jpg/image_1288.jpg\n",
            "jpg/image_1289.jpg\n",
            "jpg/image_1290.jpg\n",
            "jpg/image_1291.jpg\n",
            "jpg/image_1292.jpg\n",
            "jpg/image_1293.jpg\n",
            "jpg/image_1294.jpg\n",
            "jpg/image_1295.jpg\n",
            "jpg/image_1296.jpg\n",
            "jpg/image_1297.jpg\n",
            "jpg/image_1298.jpg\n",
            "jpg/image_1299.jpg\n",
            "jpg/image_1300.jpg\n",
            "jpg/image_1301.jpg\n",
            "jpg/image_1302.jpg\n",
            "jpg/image_1303.jpg\n",
            "jpg/image_1304.jpg\n",
            "jpg/image_1305.jpg\n",
            "jpg/image_1306.jpg\n",
            "jpg/image_1307.jpg\n",
            "jpg/image_1308.jpg\n",
            "jpg/image_1309.jpg\n",
            "jpg/image_1310.jpg\n",
            "jpg/image_1311.jpg\n",
            "jpg/image_1312.jpg\n",
            "jpg/image_1313.jpg\n",
            "jpg/image_1314.jpg\n",
            "jpg/image_1315.jpg\n",
            "jpg/image_1316.jpg\n",
            "jpg/image_1317.jpg\n",
            "jpg/image_1318.jpg\n",
            "jpg/image_1319.jpg\n",
            "jpg/image_1320.jpg\n",
            "jpg/image_1321.jpg\n",
            "jpg/image_1322.jpg\n",
            "jpg/image_1323.jpg\n",
            "jpg/image_1324.jpg\n",
            "jpg/image_1325.jpg\n",
            "jpg/image_1326.jpg\n",
            "jpg/image_1327.jpg\n",
            "jpg/image_1328.jpg\n",
            "jpg/image_1329.jpg\n",
            "jpg/image_1330.jpg\n",
            "jpg/image_1331.jpg\n",
            "jpg/image_1332.jpg\n",
            "jpg/image_1333.jpg\n",
            "jpg/image_1334.jpg\n",
            "jpg/image_1335.jpg\n",
            "jpg/image_1336.jpg\n",
            "jpg/image_1337.jpg\n",
            "jpg/image_1338.jpg\n",
            "jpg/image_1339.jpg\n",
            "jpg/image_1340.jpg\n",
            "jpg/image_1341.jpg\n",
            "jpg/image_1342.jpg\n",
            "jpg/image_1343.jpg\n",
            "jpg/image_1344.jpg\n",
            "jpg/image_1345.jpg\n",
            "jpg/image_1346.jpg\n",
            "jpg/image_1347.jpg\n",
            "jpg/image_1348.jpg\n",
            "jpg/image_1349.jpg\n",
            "jpg/image_1350.jpg\n",
            "jpg/image_1351.jpg\n",
            "jpg/image_1352.jpg\n",
            "jpg/image_1353.jpg\n",
            "jpg/image_1354.jpg\n",
            "jpg/image_1355.jpg\n",
            "jpg/image_1356.jpg\n",
            "jpg/image_1357.jpg\n",
            "jpg/image_1358.jpg\n",
            "jpg/image_1359.jpg\n",
            "jpg/image_1360.jpg\n",
            "--2020-05-24 22:41:02--  https://www.robots.ox.ac.uk/~vgg/data/flowers/17/trimaps.tgz\n",
            "Resolving www.robots.ox.ac.uk (www.robots.ox.ac.uk)... 129.67.94.2\n",
            "Connecting to www.robots.ox.ac.uk (www.robots.ox.ac.uk)|129.67.94.2|:443... connected.\n",
            "HTTP request sent, awaiting response... 200 OK\n",
            "Length: 3915787 (3.7M) [application/x-gzip]\n",
            "Saving to: ‘trimaps.tgz’\n",
            "\n",
            "trimaps.tgz         100%[===================>]   3.73M  1.62MB/s    in 2.3s    \n",
            "\n",
            "2020-05-24 22:41:06 (1.62 MB/s) - ‘trimaps.tgz’ saved [3915787/3915787]\n",
            "\n",
            "trimaps/\n",
            "trimaps/image_0801.png\n",
            "trimaps/imlist.mat\n",
            "trimaps/image_0802.png\n",
            "trimaps/image_0803.png\n",
            "trimaps/image_0804.png\n",
            "trimaps/image_0805.png\n",
            "trimaps/image_0806.png\n",
            "trimaps/image_0807.png\n",
            "trimaps/image_0808.png\n",
            "trimaps/image_0810.png\n",
            "trimaps/image_0811.png\n",
            "trimaps/image_0812.png\n",
            "trimaps/image_0813.png\n",
            "trimaps/image_0814.png\n",
            "trimaps/image_0815.png\n",
            "trimaps/image_0816.png\n",
            "trimaps/image_0817.png\n",
            "trimaps/image_0818.png\n",
            "trimaps/image_0819.png\n",
            "trimaps/image_0820.png\n",
            "trimaps/image_0821.png\n",
            "trimaps/image_0822.png\n",
            "trimaps/image_0823.png\n",
            "trimaps/image_0824.png\n",
            "trimaps/image_0825.png\n",
            "trimaps/image_0826.png\n",
            "trimaps/image_0827.png\n",
            "trimaps/image_0828.png\n",
            "trimaps/image_0829.png\n",
            "trimaps/image_0830.png\n",
            "trimaps/image_0831.png\n",
            "trimaps/image_0832.png\n",
            "trimaps/image_0833.png\n",
            "trimaps/image_0834.png\n",
            "trimaps/image_0835.png\n",
            "trimaps/image_0836.png\n",
            "trimaps/image_0837.png\n",
            "trimaps/image_0838.png\n",
            "trimaps/image_0839.png\n",
            "trimaps/image_0840.png\n",
            "trimaps/image_0841.png\n",
            "trimaps/image_0842.png\n",
            "trimaps/image_0843.png\n",
            "trimaps/image_0844.png\n",
            "trimaps/image_0845.png\n",
            "trimaps/image_0848.png\n",
            "trimaps/image_0849.png\n",
            "trimaps/image_0850.png\n",
            "trimaps/image_0851.png\n",
            "trimaps/image_0852.png\n",
            "trimaps/image_0853.png\n",
            "trimaps/image_0854.png\n",
            "trimaps/image_0855.png\n",
            "trimaps/image_0862.png\n",
            "trimaps/image_0865.png\n",
            "trimaps/image_0866.png\n",
            "trimaps/image_0867.png\n",
            "trimaps/image_0873.png\n",
            "trimaps/image_0881.png\n",
            "trimaps/image_0883.png\n",
            "trimaps/image_0884.png\n",
            "trimaps/image_0885.png\n",
            "trimaps/image_0888.png\n",
            "trimaps/image_0890.png\n",
            "trimaps/image_0891.png\n",
            "trimaps/image_0892.png\n",
            "trimaps/image_0893.png\n",
            "trimaps/image_0894.png\n",
            "trimaps/image_0895.png\n",
            "trimaps/image_0896.png\n",
            "trimaps/image_0897.png\n",
            "trimaps/image_0898.png\n",
            "trimaps/image_0900.png\n",
            "trimaps/image_0901.png\n",
            "trimaps/image_0902.png\n",
            "trimaps/image_0903.png\n",
            "trimaps/image_0904.png\n",
            "trimaps/image_0905.png\n",
            "trimaps/image_0906.png\n",
            "trimaps/image_0909.png\n",
            "trimaps/image_0910.png\n",
            "trimaps/image_0911.png\n",
            "trimaps/image_0912.png\n",
            "trimaps/image_0913.png\n",
            "trimaps/image_0914.png\n",
            "trimaps/image_0915.png\n",
            "trimaps/image_0917.png\n",
            "trimaps/image_0918.png\n",
            "trimaps/image_0919.png\n",
            "trimaps/image_0920.png\n",
            "trimaps/image_0926.png\n",
            "trimaps/image_0927.png\n",
            "trimaps/image_0928.png\n",
            "trimaps/image_0929.png\n",
            "trimaps/image_0930.png\n",
            "trimaps/image_0933.png\n",
            "trimaps/image_0934.png\n",
            "trimaps/image_0935.png\n",
            "trimaps/image_0941.png\n",
            "trimaps/image_0943.png\n",
            "trimaps/image_0950.png\n",
            "trimaps/image_0961.png\n",
            "trimaps/image_0962.png\n",
            "trimaps/image_0963.png\n",
            "trimaps/image_0964.png\n",
            "trimaps/image_0965.png\n",
            "trimaps/image_0966.png\n",
            "trimaps/image_0967.png\n",
            "trimaps/image_0968.png\n",
            "trimaps/image_0969.png\n",
            "trimaps/image_0970.png\n",
            "trimaps/image_0971.png\n",
            "trimaps/image_0972.png\n",
            "trimaps/image_0973.png\n",
            "trimaps/image_0974.png\n",
            "trimaps/image_0975.png\n",
            "trimaps/image_0976.png\n",
            "trimaps/image_0977.png\n",
            "trimaps/image_0978.png\n",
            "trimaps/image_0979.png\n",
            "trimaps/image_0980.png\n",
            "trimaps/image_0981.png\n",
            "trimaps/image_0982.png\n",
            "trimaps/image_0983.png\n",
            "trimaps/image_0984.png\n",
            "trimaps/image_0985.png\n",
            "trimaps/image_0986.png\n",
            "trimaps/image_0987.png\n",
            "trimaps/image_0988.png\n",
            "trimaps/image_0989.png\n",
            "trimaps/image_0990.png\n",
            "trimaps/image_0991.png\n",
            "trimaps/image_0992.png\n",
            "trimaps/image_0993.png\n",
            "trimaps/image_0994.png\n",
            "trimaps/image_0995.png\n",
            "trimaps/image_0996.png\n",
            "trimaps/image_0997.png\n",
            "trimaps/image_0999.png\n",
            "trimaps/image_1000.png\n",
            "trimaps/image_1001.png\n",
            "trimaps/image_1002.png\n",
            "trimaps/image_1003.png\n",
            "trimaps/image_1004.png\n",
            "trimaps/image_1006.png\n",
            "trimaps/image_1007.png\n",
            "trimaps/image_1008.png\n",
            "trimaps/image_1009.png\n",
            "trimaps/image_1012.png\n",
            "trimaps/image_1013.png\n",
            "trimaps/image_1016.png\n",
            "trimaps/image_1018.png\n",
            "trimaps/image_1019.png\n",
            "trimaps/image_1032.png\n",
            "trimaps/image_1033.png\n",
            "trimaps/image_1035.png\n",
            "trimaps/image_1121.png\n",
            "trimaps/image_1122.png\n",
            "trimaps/image_1123.png\n",
            "trimaps/image_1124.png\n",
            "trimaps/image_1125.png\n",
            "trimaps/image_1126.png\n",
            "trimaps/image_1127.png\n",
            "trimaps/image_1128.png\n",
            "trimaps/image_1129.png\n",
            "trimaps/image_1130.png\n",
            "trimaps/image_1131.png\n",
            "trimaps/image_1132.png\n",
            "trimaps/image_1133.png\n",
            "trimaps/image_1134.png\n",
            "trimaps/image_1135.png\n",
            "trimaps/image_1136.png\n",
            "trimaps/image_1137.png\n",
            "trimaps/image_1138.png\n",
            "trimaps/image_1139.png\n",
            "trimaps/image_1140.png\n",
            "trimaps/image_1141.png\n",
            "trimaps/image_1142.png\n",
            "trimaps/image_1143.png\n",
            "trimaps/image_1144.png\n",
            "trimaps/image_1145.png\n",
            "trimaps/image_1146.png\n",
            "trimaps/image_1147.png\n",
            "trimaps/image_1148.png\n",
            "trimaps/image_1149.png\n",
            "trimaps/image_1150.png\n",
            "trimaps/image_1151.png\n",
            "trimaps/image_1152.png\n",
            "trimaps/image_1153.png\n",
            "trimaps/image_1154.png\n",
            "trimaps/image_1155.png\n",
            "trimaps/image_1156.png\n",
            "trimaps/image_1157.png\n",
            "trimaps/image_1158.png\n",
            "trimaps/image_1159.png\n",
            "trimaps/image_1160.png\n",
            "trimaps/image_1161.png\n",
            "trimaps/image_1162.png\n",
            "trimaps/image_1164.png\n",
            "trimaps/image_1166.png\n",
            "trimaps/image_1168.png\n",
            "trimaps/image_1170.png\n",
            "trimaps/image_1173.png\n",
            "trimaps/image_1174.png\n",
            "trimaps/image_1177.png\n",
            "trimaps/image_1185.png\n",
            "trimaps/image_1187.png\n",
            "trimaps/image_1188.png\n",
            "trimaps/image_1189.png\n",
            "trimaps/image_1190.png\n",
            "trimaps/image_1201.png\n",
            "trimaps/image_1202.png\n",
            "trimaps/image_1203.png\n",
            "trimaps/image_1204.png\n",
            "trimaps/image_1205.png\n",
            "trimaps/image_1206.png\n",
            "trimaps/image_1207.png\n",
            "trimaps/image_1208.png\n",
            "trimaps/image_1209.png\n",
            "trimaps/image_1210.png\n",
            "trimaps/image_1211.png\n",
            "trimaps/image_1212.png\n",
            "trimaps/image_1213.png\n",
            "trimaps/image_1214.png\n",
            "trimaps/image_1215.png\n",
            "trimaps/image_1216.png\n",
            "trimaps/image_1217.png\n",
            "trimaps/image_1218.png\n",
            "trimaps/image_1219.png\n",
            "trimaps/image_1220.png\n",
            "trimaps/image_1221.png\n",
            "trimaps/image_1222.png\n",
            "trimaps/image_1223.png\n",
            "trimaps/image_1224.png\n",
            "trimaps/image_1225.png\n",
            "trimaps/image_1226.png\n",
            "trimaps/image_1227.png\n",
            "trimaps/image_1228.png\n",
            "trimaps/image_1229.png\n",
            "trimaps/image_1230.png\n",
            "trimaps/image_1231.png\n",
            "trimaps/image_1232.png\n",
            "trimaps/image_1233.png\n",
            "trimaps/image_1234.png\n",
            "trimaps/image_1235.png\n",
            "trimaps/image_1236.png\n",
            "trimaps/image_1237.png\n",
            "trimaps/image_1238.png\n",
            "trimaps/image_1239.png\n",
            "trimaps/image_1240.png\n",
            "trimaps/image_1241.png\n",
            "trimaps/image_1242.png\n",
            "trimaps/image_1243.png\n",
            "trimaps/image_1244.png\n",
            "trimaps/image_1245.png\n",
            "trimaps/image_1246.png\n",
            "trimaps/image_1247.png\n",
            "trimaps/image_1248.png\n",
            "trimaps/image_1249.png\n",
            "trimaps/image_1250.png\n",
            "trimaps/image_1251.png\n",
            "trimaps/image_1252.png\n",
            "trimaps/image_1254.png\n",
            "trimaps/image_1255.png\n",
            "trimaps/image_1267.png\n",
            "trimaps/image_1268.png\n",
            "trimaps/image_1269.png\n",
            "trimaps/image_1270.png\n",
            "trimaps/image_1272.png\n",
            "trimaps/image_1274.png\n",
            "trimaps/image_1275.png\n",
            "trimaps/image_1277.png\n",
            "trimaps/image_1278.png\n",
            "trimaps/image_1281.png\n",
            "trimaps/image_1282.png\n",
            "trimaps/image_1283.png\n",
            "trimaps/image_1284.png\n",
            "trimaps/image_1285.png\n",
            "trimaps/image_1286.png\n",
            "trimaps/image_1287.png\n",
            "trimaps/image_1288.png\n",
            "trimaps/image_1289.png\n",
            "trimaps/image_1290.png\n",
            "trimaps/image_1291.png\n",
            "trimaps/image_1292.png\n",
            "trimaps/image_1293.png\n",
            "trimaps/image_1294.png\n",
            "trimaps/image_1295.png\n",
            "trimaps/image_1296.png\n",
            "trimaps/image_1297.png\n",
            "trimaps/image_1298.png\n",
            "trimaps/image_1300.png\n",
            "trimaps/image_1301.png\n",
            "trimaps/image_1302.png\n",
            "trimaps/image_1303.png\n",
            "trimaps/image_1304.png\n",
            "trimaps/image_1305.png\n",
            "trimaps/image_1306.png\n",
            "trimaps/image_1307.png\n",
            "trimaps/image_1308.png\n",
            "trimaps/image_1309.png\n",
            "trimaps/image_1311.png\n",
            "trimaps/image_1312.png\n",
            "trimaps/image_1313.png\n",
            "trimaps/image_1314.png\n",
            "trimaps/image_1315.png\n",
            "trimaps/image_1316.png\n",
            "trimaps/image_1317.png\n",
            "trimaps/image_1318.png\n",
            "trimaps/image_1319.png\n",
            "trimaps/image_1320.png\n",
            "trimaps/image_1321.png\n",
            "trimaps/image_1322.png\n",
            "trimaps/image_1324.png\n",
            "trimaps/image_1325.png\n",
            "trimaps/image_1329.png\n",
            "trimaps/image_1331.png\n",
            "trimaps/image_1332.png\n",
            "trimaps/image_1333.png\n",
            "trimaps/image_1334.png\n",
            "trimaps/image_1339.png\n",
            "trimaps/image_1340.png\n",
            "trimaps/image_1341.png\n",
            "trimaps/image_1342.png\n",
            "trimaps/image_1346.png\n",
            "trimaps/image_1347.png\n",
            "trimaps/image_1350.png\n",
            "trimaps/image_1352.png\n",
            "trimaps/image_1357.png\n",
            "trimaps/image_0001.png\n",
            "trimaps/image_0002.png\n",
            "trimaps/image_0003.png\n",
            "trimaps/image_0004.png\n",
            "trimaps/image_0005.png\n",
            "trimaps/image_0006.png\n",
            "trimaps/image_0007.png\n",
            "trimaps/image_0008.png\n",
            "trimaps/image_0009.png\n",
            "trimaps/image_0010.png\n",
            "trimaps/image_0011.png\n",
            "trimaps/image_0012.png\n",
            "trimaps/image_0013.png\n",
            "trimaps/image_0014.png\n",
            "trimaps/image_0015.png\n",
            "trimaps/image_0016.png\n",
            "trimaps/image_0017.png\n",
            "trimaps/image_0018.png\n",
            "trimaps/image_0019.png\n",
            "trimaps/image_0020.png\n",
            "trimaps/image_0021.png\n",
            "trimaps/image_0022.png\n",
            "trimaps/image_0023.png\n",
            "trimaps/image_0024.png\n",
            "trimaps/image_0025.png\n",
            "trimaps/image_0026.png\n",
            "trimaps/image_0027.png\n",
            "trimaps/image_0028.png\n",
            "trimaps/image_0029.png\n",
            "trimaps/image_0030.png\n",
            "trimaps/image_0031.png\n",
            "trimaps/image_0032.png\n",
            "trimaps/image_0033.png\n",
            "trimaps/image_0034.png\n",
            "trimaps/image_0037.png\n",
            "trimaps/image_0038.png\n",
            "trimaps/image_0039.png\n",
            "trimaps/image_0040.png\n",
            "trimaps/image_0044.png\n",
            "trimaps/image_0045.png\n",
            "trimaps/image_0046.png\n",
            "trimaps/image_0047.png\n",
            "trimaps/image_0048.png\n",
            "trimaps/image_0049.png\n",
            "trimaps/image_0050.png\n",
            "trimaps/image_0051.png\n",
            "trimaps/image_0052.png\n",
            "trimaps/image_0053.png\n",
            "trimaps/image_0055.png\n",
            "trimaps/image_0056.png\n",
            "trimaps/image_0057.png\n",
            "trimaps/image_0058.png\n",
            "trimaps/image_0059.png\n",
            "trimaps/image_0060.png\n",
            "trimaps/image_0061.png\n",
            "trimaps/image_0062.png\n",
            "trimaps/image_0063.png\n",
            "trimaps/image_0064.png\n",
            "trimaps/image_0065.png\n",
            "trimaps/image_0066.png\n",
            "trimaps/image_0067.png\n",
            "trimaps/image_0068.png\n",
            "trimaps/image_0069.png\n",
            "trimaps/image_0070.png\n",
            "trimaps/image_0072.png\n",
            "trimaps/image_0074.png\n",
            "trimaps/image_0078.png\n",
            "trimaps/image_0079.png\n",
            "trimaps/image_0081.png\n",
            "trimaps/image_0083.png\n",
            "trimaps/image_0084.png\n",
            "trimaps/image_0086.png\n",
            "trimaps/image_0088.png\n",
            "trimaps/image_0089.png\n",
            "trimaps/image_0090.png\n",
            "trimaps/image_0091.png\n",
            "trimaps/image_0092.png\n",
            "trimaps/image_0093.png\n",
            "trimaps/image_0094.png\n",
            "trimaps/image_0095.png\n",
            "trimaps/image_0096.png\n",
            "trimaps/image_0097.png\n",
            "trimaps/image_0098.png\n",
            "trimaps/image_0100.png\n",
            "trimaps/image_0102.png\n",
            "trimaps/image_0104.png\n",
            "trimaps/image_0105.png\n",
            "trimaps/image_0106.png\n",
            "trimaps/image_0108.png\n",
            "trimaps/image_0109.png\n",
            "trimaps/image_0110.png\n",
            "trimaps/image_0111.png\n",
            "trimaps/image_0112.png\n",
            "trimaps/image_0113.png\n",
            "trimaps/image_0115.png\n",
            "trimaps/image_0116.png\n",
            "trimaps/image_0118.png\n",
            "trimaps/image_0119.png\n",
            "trimaps/image_0124.png\n",
            "trimaps/image_0127.png\n",
            "trimaps/image_0129.png\n",
            "trimaps/image_0130.png\n",
            "trimaps/image_0134.png\n",
            "trimaps/image_0135.png\n",
            "trimaps/image_0136.png\n",
            "trimaps/image_0138.png\n",
            "trimaps/image_0140.png\n",
            "trimaps/image_0141.png\n",
            "trimaps/image_0143.png\n",
            "trimaps/image_0144.png\n",
            "trimaps/image_0145.png\n",
            "trimaps/image_0146.png\n",
            "trimaps/image_0149.png\n",
            "trimaps/image_0150.png\n",
            "trimaps/image_0153.png\n",
            "trimaps/image_0154.png\n",
            "trimaps/image_0155.png\n",
            "trimaps/image_0158.png\n",
            "trimaps/image_0161.png\n",
            "trimaps/image_0162.png\n",
            "trimaps/image_0163.png\n",
            "trimaps/image_0164.png\n",
            "trimaps/image_0166.png\n",
            "trimaps/image_0168.png\n",
            "trimaps/image_0169.png\n",
            "trimaps/image_0170.png\n",
            "trimaps/image_0171.png\n",
            "trimaps/image_0172.png\n",
            "trimaps/image_0173.png\n",
            "trimaps/image_0175.png\n",
            "trimaps/image_0176.png\n",
            "trimaps/image_0177.png\n",
            "trimaps/image_0180.png\n",
            "trimaps/image_0181.png\n",
            "trimaps/image_0183.png\n",
            "trimaps/image_0242.png\n",
            "trimaps/image_0243.png\n",
            "trimaps/image_0244.png\n",
            "trimaps/image_0245.png\n",
            "trimaps/image_0246.png\n",
            "trimaps/image_0249.png\n",
            "trimaps/image_0250.png\n",
            "trimaps/image_0251.png\n",
            "trimaps/image_0255.png\n",
            "trimaps/image_0257.png\n",
            "trimaps/image_0259.png\n",
            "trimaps/image_0261.png\n",
            "trimaps/image_0263.png\n",
            "trimaps/image_0264.png\n",
            "trimaps/image_0265.png\n",
            "trimaps/image_0266.png\n",
            "trimaps/image_0270.png\n",
            "trimaps/image_0272.png\n",
            "trimaps/image_0275.png\n",
            "trimaps/image_0276.png\n",
            "trimaps/image_0277.png\n",
            "trimaps/image_0281.png\n",
            "trimaps/image_0285.png\n",
            "trimaps/image_0289.png\n",
            "trimaps/image_0290.png\n",
            "trimaps/image_0294.png\n",
            "trimaps/image_0300.png\n",
            "trimaps/image_0315.png\n",
            "trimaps/image_0322.png\n",
            "trimaps/image_0323.png\n",
            "trimaps/image_0324.png\n",
            "trimaps/image_0325.png\n",
            "trimaps/image_0326.png\n",
            "trimaps/image_0327.png\n",
            "trimaps/image_0328.png\n",
            "trimaps/image_0329.png\n",
            "trimaps/image_0330.png\n",
            "trimaps/image_0331.png\n",
            "trimaps/image_0332.png\n",
            "trimaps/image_0333.png\n",
            "trimaps/image_0335.png\n",
            "trimaps/image_0336.png\n",
            "trimaps/image_0337.png\n",
            "trimaps/image_0338.png\n",
            "trimaps/image_0339.png\n",
            "trimaps/image_0340.png\n",
            "trimaps/image_0341.png\n",
            "trimaps/image_0342.png\n",
            "trimaps/image_0343.png\n",
            "trimaps/image_0344.png\n",
            "trimaps/image_0345.png\n",
            "trimaps/image_0347.png\n",
            "trimaps/image_0348.png\n",
            "trimaps/image_0349.png\n",
            "trimaps/image_0350.png\n",
            "trimaps/image_0351.png\n",
            "trimaps/image_0352.png\n",
            "trimaps/image_0353.png\n",
            "trimaps/image_0354.png\n",
            "trimaps/image_0355.png\n",
            "trimaps/image_0357.png\n",
            "trimaps/image_0358.png\n",
            "trimaps/image_0359.png\n",
            "trimaps/image_0360.png\n",
            "trimaps/image_0363.png\n",
            "trimaps/image_0364.png\n",
            "trimaps/image_0365.png\n",
            "trimaps/image_0366.png\n",
            "trimaps/image_0368.png\n",
            "trimaps/image_0372.png\n",
            "trimaps/image_0374.png\n",
            "trimaps/image_0375.png\n",
            "trimaps/image_0377.png\n",
            "trimaps/image_0381.png\n",
            "trimaps/image_0382.png\n",
            "trimaps/image_0387.png\n",
            "trimaps/image_0388.png\n",
            "trimaps/image_0390.png\n",
            "trimaps/image_0401.png\n",
            "trimaps/image_0402.png\n",
            "trimaps/image_0403.png\n",
            "trimaps/image_0404.png\n",
            "trimaps/image_0405.png\n",
            "trimaps/image_0406.png\n",
            "trimaps/image_0407.png\n",
            "trimaps/image_0408.png\n",
            "trimaps/image_0409.png\n",
            "trimaps/image_0410.png\n",
            "trimaps/image_0411.png\n",
            "trimaps/image_0412.png\n",
            "trimaps/image_0413.png\n",
            "trimaps/image_0414.png\n",
            "trimaps/image_0415.png\n",
            "trimaps/image_0416.png\n",
            "trimaps/image_0417.png\n",
            "trimaps/image_0418.png\n",
            "trimaps/image_0419.png\n",
            "trimaps/image_0420.png\n",
            "trimaps/image_0421.png\n",
            "trimaps/image_0422.png\n",
            "trimaps/image_0423.png\n",
            "trimaps/image_0424.png\n",
            "trimaps/image_0425.png\n",
            "trimaps/image_0426.png\n",
            "trimaps/image_0427.png\n",
            "trimaps/image_0428.png\n",
            "trimaps/image_0429.png\n",
            "trimaps/image_0430.png\n",
            "trimaps/image_0431.png\n",
            "trimaps/image_0432.png\n",
            "trimaps/image_0433.png\n",
            "trimaps/image_0434.png\n",
            "trimaps/image_0435.png\n",
            "trimaps/image_0436.png\n",
            "trimaps/image_0437.png\n",
            "trimaps/image_0438.png\n",
            "trimaps/image_0439.png\n",
            "trimaps/image_0440.png\n",
            "trimaps/image_0441.png\n",
            "trimaps/image_0442.png\n",
            "trimaps/image_0443.png\n",
            "trimaps/image_0444.png\n",
            "trimaps/image_0445.png\n",
            "trimaps/image_0446.png\n",
            "trimaps/image_0447.png\n",
            "trimaps/image_0448.png\n",
            "trimaps/image_0449.png\n",
            "trimaps/image_0450.png\n",
            "trimaps/image_0451.png\n",
            "trimaps/image_0452.png\n",
            "trimaps/image_0453.png\n",
            "trimaps/image_0454.png\n",
            "trimaps/image_0455.png\n",
            "trimaps/image_0456.png\n",
            "trimaps/image_0457.png\n",
            "trimaps/image_0458.png\n",
            "trimaps/image_0459.png\n",
            "trimaps/image_0460.png\n",
            "trimaps/image_0461.png\n",
            "trimaps/image_0462.png\n",
            "trimaps/image_0463.png\n",
            "trimaps/image_0464.png\n",
            "trimaps/image_0465.png\n",
            "trimaps/image_0466.png\n",
            "trimaps/image_0467.png\n",
            "trimaps/image_0468.png\n",
            "trimaps/image_0469.png\n",
            "trimaps/image_0470.png\n",
            "trimaps/image_0471.png\n",
            "trimaps/image_0472.png\n",
            "trimaps/image_0473.png\n",
            "trimaps/image_0474.png\n",
            "trimaps/image_0475.png\n",
            "trimaps/image_0476.png\n",
            "trimaps/image_0477.png\n",
            "trimaps/image_0480.png\n",
            "trimaps/image_0481.png\n",
            "trimaps/image_0482.png\n",
            "trimaps/image_0483.png\n",
            "trimaps/image_0484.png\n",
            "trimaps/image_0485.png\n",
            "trimaps/image_0486.png\n",
            "trimaps/image_0487.png\n",
            "trimaps/image_0488.png\n",
            "trimaps/image_0489.png\n",
            "trimaps/image_0490.png\n",
            "trimaps/image_0491.png\n",
            "trimaps/image_0492.png\n",
            "trimaps/image_0493.png\n",
            "trimaps/image_0494.png\n",
            "trimaps/image_0495.png\n",
            "trimaps/image_0496.png\n",
            "trimaps/image_0497.png\n",
            "trimaps/image_0498.png\n",
            "trimaps/image_0500.png\n",
            "trimaps/image_0501.png\n",
            "trimaps/image_0502.png\n",
            "trimaps/image_0503.png\n",
            "trimaps/image_0504.png\n",
            "trimaps/image_0506.png\n",
            "trimaps/image_0507.png\n",
            "trimaps/image_0508.png\n",
            "trimaps/image_0509.png\n",
            "trimaps/image_0510.png\n",
            "trimaps/image_0511.png\n",
            "trimaps/image_0512.png\n",
            "trimaps/image_0513.png\n",
            "trimaps/image_0514.png\n",
            "trimaps/image_0515.png\n",
            "trimaps/image_0517.png\n",
            "trimaps/image_0518.png\n",
            "trimaps/image_0521.png\n",
            "trimaps/image_0522.png\n",
            "trimaps/image_0524.png\n",
            "trimaps/image_0525.png\n",
            "trimaps/image_0526.png\n",
            "trimaps/image_0527.png\n",
            "trimaps/image_0528.png\n",
            "trimaps/image_0529.png\n",
            "trimaps/image_0530.png\n",
            "trimaps/image_0546.png\n",
            "trimaps/image_0549.png\n",
            "trimaps/image_0553.png\n",
            "trimaps/image_0554.png\n",
            "trimaps/image_0555.png\n",
            "trimaps/image_0561.png\n",
            "trimaps/image_0562.png\n",
            "trimaps/image_0563.png\n",
            "trimaps/image_0564.png\n",
            "trimaps/image_0565.png\n",
            "trimaps/image_0566.png\n",
            "trimaps/image_0567.png\n",
            "trimaps/image_0568.png\n",
            "trimaps/image_0569.png\n",
            "trimaps/image_0571.png\n",
            "trimaps/image_0572.png\n",
            "trimaps/image_0573.png\n",
            "trimaps/image_0574.png\n",
            "trimaps/image_0575.png\n",
            "trimaps/image_0576.png\n",
            "trimaps/image_0577.png\n",
            "trimaps/image_0578.png\n",
            "trimaps/image_0579.png\n",
            "trimaps/image_0580.png\n",
            "trimaps/image_0581.png\n",
            "trimaps/image_0582.png\n",
            "trimaps/image_0583.png\n",
            "trimaps/image_0584.png\n",
            "trimaps/image_0585.png\n",
            "trimaps/image_0586.png\n",
            "trimaps/image_0587.png\n",
            "trimaps/image_0589.png\n",
            "trimaps/image_0590.png\n",
            "trimaps/image_0591.png\n",
            "trimaps/image_0592.png\n",
            "trimaps/image_0593.png\n",
            "trimaps/image_0594.png\n",
            "trimaps/image_0595.png\n",
            "trimaps/image_0596.png\n",
            "trimaps/image_0597.png\n",
            "trimaps/image_0598.png\n",
            "trimaps/image_0599.png\n",
            "trimaps/image_0604.png\n",
            "trimaps/image_0608.png\n",
            "trimaps/image_0609.png\n",
            "trimaps/image_0634.png\n",
            "trimaps/image_0641.png\n",
            "trimaps/image_0642.png\n",
            "trimaps/image_0643.png\n",
            "trimaps/image_0644.png\n",
            "trimaps/image_0645.png\n",
            "trimaps/image_0646.png\n",
            "trimaps/image_0647.png\n",
            "trimaps/image_0648.png\n",
            "trimaps/image_0649.png\n",
            "trimaps/image_0650.png\n",
            "trimaps/image_0651.png\n",
            "trimaps/image_0652.png\n",
            "trimaps/image_0653.png\n",
            "trimaps/image_0654.png\n",
            "trimaps/image_0655.png\n",
            "trimaps/image_0656.png\n",
            "trimaps/image_0657.png\n",
            "trimaps/image_0658.png\n",
            "trimaps/image_0659.png\n",
            "trimaps/image_0660.png\n",
            "trimaps/image_0662.png\n",
            "trimaps/image_0663.png\n",
            "trimaps/image_0664.png\n",
            "trimaps/image_0665.png\n",
            "trimaps/image_0666.png\n",
            "trimaps/image_0667.png\n",
            "trimaps/image_0668.png\n",
            "trimaps/image_0669.png\n",
            "trimaps/image_0670.png\n",
            "trimaps/image_0671.png\n",
            "trimaps/image_0672.png\n",
            "trimaps/image_0673.png\n",
            "trimaps/image_0674.png\n",
            "trimaps/image_0675.png\n",
            "trimaps/image_0676.png\n",
            "trimaps/image_0677.png\n",
            "trimaps/image_0678.png\n",
            "trimaps/image_0679.png\n",
            "trimaps/image_0680.png\n",
            "trimaps/image_0681.png\n",
            "trimaps/image_0682.png\n",
            "trimaps/image_0684.png\n",
            "trimaps/image_0686.png\n",
            "trimaps/image_0687.png\n",
            "trimaps/image_0688.png\n",
            "trimaps/image_0689.png\n",
            "trimaps/image_0690.png\n",
            "trimaps/image_0691.png\n",
            "trimaps/image_0692.png\n",
            "trimaps/image_0693.png\n",
            "trimaps/image_0694.png\n",
            "trimaps/image_0695.png\n",
            "trimaps/image_0696.png\n",
            "trimaps/image_0697.png\n",
            "trimaps/image_0698.png\n",
            "trimaps/image_0699.png\n",
            "trimaps/image_0700.png\n",
            "trimaps/image_0703.png\n",
            "trimaps/image_0704.png\n",
            "trimaps/image_0705.png\n",
            "trimaps/image_0709.png\n",
            "trimaps/image_0711.png\n",
            "trimaps/image_0718.png\n",
            "trimaps/image_0721.png\n",
            "trimaps/image_0722.png\n",
            "trimaps/image_0723.png\n",
            "trimaps/image_0724.png\n",
            "trimaps/image_0725.png\n",
            "trimaps/image_0726.png\n",
            "trimaps/image_0727.png\n",
            "trimaps/image_0728.png\n",
            "trimaps/image_0729.png\n",
            "trimaps/image_0730.png\n",
            "trimaps/image_0731.png\n",
            "trimaps/image_0732.png\n",
            "trimaps/image_0733.png\n",
            "trimaps/image_0734.png\n",
            "trimaps/image_0735.png\n",
            "trimaps/image_0736.png\n",
            "trimaps/image_0737.png\n",
            "trimaps/image_0738.png\n",
            "trimaps/image_0739.png\n",
            "trimaps/image_0740.png\n",
            "trimaps/image_0741.png\n",
            "trimaps/image_0743.png\n",
            "trimaps/image_0744.png\n",
            "trimaps/image_0745.png\n",
            "trimaps/image_0746.png\n",
            "trimaps/image_0747.png\n",
            "trimaps/image_0748.png\n",
            "trimaps/image_0749.png\n",
            "trimaps/image_0750.png\n",
            "trimaps/image_0751.png\n",
            "trimaps/image_0752.png\n",
            "trimaps/image_0753.png\n",
            "trimaps/image_0754.png\n",
            "trimaps/image_0755.png\n",
            "trimaps/image_0756.png\n",
            "trimaps/image_0757.png\n",
            "trimaps/image_0758.png\n",
            "trimaps/image_0759.png\n",
            "trimaps/image_0761.png\n",
            "trimaps/image_0762.png\n",
            "trimaps/image_0763.png\n",
            "trimaps/image_0764.png\n",
            "trimaps/image_0766.png\n",
            "trimaps/image_0767.png\n",
            "trimaps/image_0768.png\n",
            "trimaps/image_0769.png\n",
            "trimaps/image_0770.png\n",
            "trimaps/image_0771.png\n",
            "trimaps/image_0772.png\n",
            "trimaps/image_0773.png\n",
            "trimaps/image_0774.png\n",
            "trimaps/image_0775.png\n",
            "trimaps/image_0776.png\n",
            "trimaps/image_0777.png\n",
            "trimaps/image_0778.png\n",
            "trimaps/image_0779.png\n",
            "trimaps/image_0780.png\n",
            "trimaps/image_0781.png\n",
            "trimaps/image_0782.png\n",
            "trimaps/image_0783.png\n",
            "trimaps/image_0784.png\n",
            "trimaps/image_0785.png\n",
            "trimaps/image_0787.png\n",
            "trimaps/image_0789.png\n",
            "trimaps/image_0790.png\n",
            "trimaps/image_0795.png\n",
            "trimaps/image_0797.png\n",
            "trimaps/image_0798.png\n",
            "trimaps/image_0799.png\n",
            "trimaps/image_0036.png\n",
            "trimaps/image_0041.png\n",
            "trimaps/image_0043.png\n",
            "trimaps/image_0685.png\n",
            "trimaps/image_0714.png\n",
            "trimaps/image_0760.png\n",
            "trimaps/image_0796.png\n",
            "--2020-05-24 22:41:11--  https://www.robots.ox.ac.uk/~vgg/data/flowers/17/datasplits.mat\n",
            "Resolving www.robots.ox.ac.uk (www.robots.ox.ac.uk)... 129.67.94.2\n",
            "Connecting to www.robots.ox.ac.uk (www.robots.ox.ac.uk)|129.67.94.2|:443... connected.\n",
            "HTTP request sent, awaiting response... 200 OK\n",
            "Length: 7487 (7.3K)\n",
            "Saving to: ‘datasplits.mat’\n",
            "\n",
            "datasplits.mat      100%[===================>]   7.31K  --.-KB/s    in 0s      \n",
            "\n",
            "2020-05-24 22:41:12 (279 MB/s) - ‘datasplits.mat’ saved [7487/7487]\n",
            "\n"
          ],
          "name": "stdout"
        }
      ]
    },
    {
      "cell_type": "code",
      "metadata": {
        "id": "wNmAfWt1wuhE",
        "colab_type": "code",
        "colab": {}
      },
      "source": [
        "import cv2\n",
        "import time\n",
        "import numpy as np\n",
        "import matplotlib.pyplot as plt\n",
        "from scipy.io import loadmat\n",
        "from PIL import Image\n",
        "import warnings\n",
        "import os\n",
        "warnings.filterwarnings('ignore')\n",
        "\n",
        "import torch\n",
        "import torch.nn as nn\n",
        "import torch.nn.functional as F\n",
        "from torch.utils.data import Dataset, DataLoader"
      ],
      "execution_count": 0,
      "outputs": []
    },
    {
      "cell_type": "markdown",
      "metadata": {
        "id": "Cbb8LgLDJug4",
        "colab_type": "text"
      },
      "source": [
        "# Building Dataset object"
      ]
    },
    {
      "cell_type": "code",
      "metadata": {
        "id": "Pw3yS9aJsKMK",
        "colab_type": "code",
        "colab": {}
      },
      "source": [
        "# Dataset helper function\n",
        "def read_image(path):\n",
        "    im = cv2.imread(str(path))\n",
        "    return cv2.cvtColor(im, cv2.COLOR_BGR2RGB)\n",
        "\n",
        "def normalize(im):\n",
        "    \"\"\"Normalizes images with Imagenet stats.\"\"\"\n",
        "    imagenet_stats = np.array([[0.485, 0.456, 0.406], [0.229, 0.224, 0.225]])\n",
        "    return (im/255.0 - imagenet_stats[0])/imagenet_stats[1]\n",
        "\n",
        "def denormalize(img):\n",
        "    imagenet_stats = np.array([[0.485, 0.456, 0.406], [0.229, 0.224, 0.225]])\n",
        "    return img*imagenet_stats[1] + imagenet_stats[0]\n",
        "\n",
        "# Mainly imported from https://colab.research.google.com/drive/1KzGRSNQpP4BonRKj3ZwGMTGdi-e2y8z-?authuser=1#scrollTo=U_g_Rq1cA1Xi\n",
        "class CUB(Dataset):\n",
        "    def __init__(self, files_path, split, train=True):\n",
        "      \n",
        "        self.files_path = files_path\n",
        "        self.split = split\n",
        "        if train:\n",
        "            filenames = list(self.split['trn1'][0]) + list(self.split['trn2'][0]) + list(self.split['trn3'][0])\n",
        "        else:\n",
        "            # We only use `val1` for validation\n",
        "            filenames = self.split['val1'][0]\n",
        "        \n",
        "        valid_filenames = []\n",
        "        for i in filenames:\n",
        "            img_name = f'image_{int(i)}.jpg' \n",
        "            if os.path.exists(os.path.join(files_path, 'jpg', img_name)) and \\\n",
        "                os.path.exists(os.path.join(files_path, 'trimaps', img_name.replace('jpg', 'png'))):\n",
        "                valid_filenames.append(img_name)\n",
        "\n",
        "        self.valid_filenames = valid_filenames\n",
        "        self.num_files = len(valid_filenames)\n",
        "       \n",
        "    def __len__(self):\n",
        "        return self.num_files\n",
        "    \n",
        "    def __getitem__(self, index):\n",
        "        \n",
        "        filename = self.valid_filenames[index]\n",
        "\n",
        "        # Load the image\n",
        "        path = os.path.join(self.files_path, 'jpg', filename)\n",
        "        x = read_image(path)  # H*W*c\n",
        "        x = cv2.resize(x, (224,224))\n",
        "        x = normalize(x)\n",
        "        x = np.rollaxis(x, 2) # To meet torch's input specification(c*H*W) \n",
        "\n",
        "        # Load the segmentation mask\n",
        "        path = os.path.join(self.files_path, 'trimaps', filename.replace(\"jpg\", \"png\"))\n",
        "        y = read_image(path)\n",
        "        y = cv2.resize(y, (224,224))  # H*W*c\n",
        "        \n",
        "        \n",
        "        return x, y\n",
        "\n",
        "def initialize_loader(train_batch_size=64, val_batch_size=64):\n",
        "    split = loadmat(\"datasplits.mat\")\n",
        "    train_dataset = CUB('./', split, train= True)\n",
        "    valid_dataset = CUB('./', split, train= False)\n",
        "    train_loader = DataLoader(train_dataset, batch_size=train_batch_size, shuffle=True, num_workers=4, drop_last=True)\n",
        "    valid_loader = DataLoader(valid_dataset, batch_size=val_batch_size, num_workers=4)\n",
        "    return train_loader, valid_loader"
      ],
      "execution_count": 0,
      "outputs": []
    },
    {
      "cell_type": "markdown",
      "metadata": {
        "id": "X-Jaa6KVJ1PU",
        "colab_type": "text"
      },
      "source": [
        "# Helper Functions to Visualize Data"
      ]
    },
    {
      "cell_type": "code",
      "metadata": {
        "id": "FjQ3srxWxXWB",
        "colab_type": "code",
        "colab": {}
      },
      "source": [
        "def visualize_dataset(dataloader):\n",
        "    \"\"\"Imshow for Tensor.\"\"\"\n",
        "    x, y = next(iter(dataloader))\n",
        "    \n",
        "    fig = plt.figure(figsize=(10, 5))\n",
        "    for i in range(4):\n",
        "      inp = x[i]\n",
        "      inp = inp.numpy().transpose(1,2,0)\n",
        "      inp = denormalize(inp)\n",
        "      mask = y[i] / 255.\n",
        "      \n",
        "      \n",
        "      ax = fig.add_subplot(2, 2, i+1, xticks=[], yticks=[])\n",
        "      plt.imshow(np.concatenate([inp, mask], axis=1))\n",
        "      \n",
        "\n",
        "def plot_prediction(args, model, is_train, index_list=[0], plotpath=None, title=None):\n",
        "\n",
        "    train_loader, valid_loader = initialize_loader()\n",
        "    loader = train_loader if is_train else valid_loader\n",
        "\n",
        "    images, masks = next(iter(loader))\n",
        "    images = images.float()\n",
        "    if args.gpu:\n",
        "        images = images.cuda()\n",
        "\n",
        "    with torch.no_grad():\n",
        "        outputs = model(images)\n",
        "        \n",
        "    output_predictions = outputs.argmax(1)\n",
        "\n",
        "    # create a color pallette, selecting a color for each class\n",
        "    palette = torch.tensor([2 ** 25 - 1, 2 ** 15 - 1, 2 ** 21 - 1])\n",
        "    colors = torch.as_tensor([i for i in range(21)])[:, None] * palette\n",
        "    colors = (colors % 255).numpy().astype(\"uint8\")\n",
        "    colors = [i for color in colors for i in color]\n",
        "\n",
        "    for index in index_list:\n",
        "        \n",
        "        r = Image.fromarray(output_predictions[index].byte().cpu().numpy())\n",
        "        r.putpalette(colors)\n",
        "\n",
        "        fig = plt.figure(figsize=(10, 5))\n",
        "        if title: plt.title(title)\n",
        "\n",
        "        ax = fig.add_subplot(1, 3, 1, xticks=[], yticks=[])\n",
        "        plt.imshow(denormalize(images[index].cpu().numpy().transpose(1,2,0)))\n",
        "\n",
        "        ax = fig.add_subplot(1, 3, 2, xticks=[], yticks=[])\n",
        "        plt.imshow(r)\n",
        "\n",
        "        ax = fig.add_subplot(1, 3, 3, xticks=[], yticks=[])\n",
        "        plt.imshow(masks[index])\n",
        "\n",
        "        if plotpath:\n",
        "            plt.savefig(plotpath)\n",
        "            plt.close()"
      ],
      "execution_count": 0,
      "outputs": []
    },
    {
      "cell_type": "code",
      "metadata": {
        "id": "bPx8BywWts0q",
        "colab_type": "code",
        "outputId": "e2337c43-9039-47f3-c179-ef458efd5e0c",
        "colab": {
          "base_uri": "https://localhost:8080/",
          "height": 306
        }
      },
      "source": [
        "train_loader, valid_loader = initialize_loader()\n",
        "visualize_dataset(train_loader)"
      ],
      "execution_count": 37,
      "outputs": [
        {
          "output_type": "display_data",
          "data": {
            "image/png": "[encoded data removed]",
            "text/plain": [
              "<Figure size 720x360 with 4 Axes>"
            ]
          },
          "metadata": {
            "tags": []
          }
        }
      ]
    },
    {
      "cell_type": "markdown",
      "metadata": {
        "id": "9Wk2-Oh7J7hJ",
        "colab_type": "text"
      },
      "source": [
        "# Import Pretrained model"
      ]
    },
    {
      "cell_type": "code",
      "metadata": {
        "id": "DUVS5gzpzDo1",
        "colab_type": "code",
        "outputId": "ff8ac79f-360d-48b6-d568-edc430d30fcb",
        "colab": {
          "base_uri": "https://localhost:8080/",
          "height": 35
        }
      },
      "source": [
        "\n",
        "\n",
        "\n",
        "model = torch.hub.load('pytorch/vision:v0.5.0', 'deeplabv3_resnet101', pretrained=True)\n",
        "model._modules[\"classifier\"][4] = nn.Conv2d(256,3,(1,1),(1,1))"
      ],
      "execution_count": 0,
      "outputs": [
        {
          "output_type": "stream",
          "text": [
            "Using cache found in /root/.cache/torch/hub/pytorch_vision_v0.5.0\n"
          ],
          "name": "stderr"
        }
      ]
    },
    {
      "cell_type": "code",
      "metadata": {
        "id": "IgmrN71ImnOm",
        "colab_type": "code",
        "colab": {}
      },
      "source": [
        "from torch.nn import Conv2d\n",
        "class UNet(nn.Module):\n",
        "    def __init__(self,final_out, kernel=3, num_filters=32, num_colours=3, num_in_channels=3):\n",
        "        super(UNet, self).__init__()\n",
        "\n",
        "        \n",
        "        padding = kernel // 2\n",
        "      \n",
        "        self.layer1 = nn.Sequential(Conv2d(in_channels=num_in_channels, out_channels= num_filters, \n",
        "                              kernel_size=kernel, padding=padding),\n",
        "                              nn.MaxPool2d(kernel_size=2),\n",
        "                              nn.BatchNorm2d(num_filters),\n",
        "                              nn.ReLU()\n",
        "                              ) \n",
        "        self.layer2 =nn.Sequential(Conv2d(in_channels=num_filters, out_channels= 2*num_filters, \n",
        "                              kernel_size=kernel, padding=padding),\n",
        "                              nn.MaxPool2d(kernel_size=2),\n",
        "                              nn.BatchNorm2d(2*num_filters),\n",
        "                              nn.ReLU()\n",
        "                              ) \n",
        "        self.layer3 =nn.Sequential(Conv2d(in_channels=2*num_filters, out_channels= 2*num_filters, \n",
        "                              kernel_size=kernel, padding=padding),\n",
        "                              nn.BatchNorm2d(2*num_filters),\n",
        "                              nn.ReLU())\n",
        "\n",
        "        self.layer4 =nn.Sequential(Conv2d(in_channels=2*num_filters+ 2*num_filters, out_channels= num_filters, \n",
        "                              kernel_size=kernel, padding=padding),\n",
        "                              nn.Upsample(scale_factor=2),\n",
        "                              nn.BatchNorm2d(num_filters),\n",
        "                              nn.ReLU()\n",
        "                              )  \n",
        "        \n",
        "        self.layer5 =nn.Sequential(Conv2d(in_channels=2*num_filters, out_channels= num_colours, \n",
        "                              kernel_size=kernel, padding=padding),\n",
        "                              nn.Upsample(scale_factor=2),\n",
        "                              nn.BatchNorm2d(num_colours),\n",
        "                              nn.ReLU()\n",
        "                              ) \n",
        "        self.conv6 = Conv2d(in_channels=num_colours + num_in_channels,\n",
        "                              out_channels= final_out, \n",
        "                              kernel_size=kernel, padding=padding)\n",
        "\n",
        "\n",
        "    def forward(self, x):\n",
        "        \n",
        "        x1 = self.layer1(x)\n",
        "        x2 = self.layer2(x1)\n",
        "        x3 = self.layer3(x2)\n",
        "        x3 = torch.cat([x3, x2], dim=1)\n",
        "        x4 = self.layer4(x3)\n",
        "        x4 = torch.cat([x4, x1], dim=1)\n",
        "        x5 = self.layer5(x4)\n",
        "        x6 = torch.cat([x5, x], dim=1)\n",
        "        x = self.conv6(x6)\n",
        "        return F.softmax(x,1)"
      ],
      "execution_count": 0,
      "outputs": []
    },
    {
      "cell_type": "markdown",
      "metadata": {
        "id": "0VrkWKUnKAri",
        "colab_type": "text"
      },
      "source": [
        "# Helper Functions for Metrics(loss and IOU)"
      ]
    },
    {
      "cell_type": "code",
      "metadata": {
        "id": "LiM-8zefx4Kf",
        "colab_type": "code",
        "colab": {}
      },
      "source": [
        "def compute_loss(pred, gt):\n",
        "    loss = F.cross_entropy(pred, gt)\n",
        "    return loss\n",
        "\n",
        "# from https://www.kaggle.com/iezepov/fast-iou-scoring-metric-in-pytorch-and-numpy\n",
        "def iou_pytorch(outputs, labels):\n",
        "    \n",
        "    SMOOTH = 1e-6\n",
        "    # You can comment out this line if you are passing tensors of equal shape\n",
        "    # But if you are passing output from UNet or something it will most probably\n",
        "    # be with the BATCH x 1 x H x W shape\n",
        "    outputs = torch.argmax(outputs, 1)\n",
        "    outputs = outputs.squeeze(1)  # BATCH x 1 x H x W => BATCH x H x W\n",
        "    \n",
        "    intersection = (outputs & labels).float().sum((1, 2))  # Will be zero if Truth=0 or Prediction=0\n",
        "    union = (outputs | labels).float().sum((1, 2))         # Will be zero if both are 0\n",
        "    \n",
        "    iou = (intersection + SMOOTH) / (union + SMOOTH)  # We smooth our devision to avoid 0/0\n",
        "    \n",
        "    thresholded = torch.clamp(20 * (iou - 0.5), 0, 10).ceil() / 10  # This is equal to comparing with thresolds\n",
        "    \n",
        "    return thresholded.mean()  # Or thresholded.mean() if you are interested in average across the batch\n",
        "\n",
        "def convert_to_binary(masks, thres=0.5):\n",
        "    binary_masks = ((masks[:, 0, :, :] ==  128) & (masks[:, 1, :, :] == 0) & (masks[:, 2, :, :] == 0)) + 0.\n",
        "    return binary_masks.long()\n",
        "\n",
        "def run_validation_step(args, epoch, model, loader, plotpath=None):\n",
        "\n",
        "    model.eval()  # Change model to 'eval' mode (BN uses moving mean/var).\n",
        "\n",
        "    losses = []\n",
        "    ious = []\n",
        "    with torch.no_grad():\n",
        "        for i, (images, masks) in enumerate(loader):\n",
        "            permute_masks = masks.permute(0, 3, 1, 2)  # to match the input size: B, C, H, W\n",
        "            binary_masks = convert_to_binary(permute_masks)\n",
        "            if args.gpu:\n",
        "                images = images.cuda()\n",
        "                binary_masks = binary_masks.cuda()\n",
        "            output = model(images.float())\n",
        "            pred_seg_masks = output\n",
        "\n",
        "            output_predictions = pred_seg_masks[0].argmax(0)\n",
        "            loss = compute_loss(pred_seg_masks, binary_masks)\n",
        "            iou = iou_pytorch(pred_seg_masks, binary_masks)\n",
        "            losses.append(loss.data.item())\n",
        "            ious.append(iou.data.item())\n",
        "\n",
        "        val_loss = np.mean(losses)\n",
        "        val_iou = np.mean(ious)\n",
        "    \n",
        "    if plotpath:\n",
        "        plot_prediction(args, model, False, index_list=[0], plotpath=plotpath, title='Val_%d' % epoch)\n",
        "    \n",
        "    return val_loss, val_iou"
      ],
      "execution_count": 0,
      "outputs": []
    },
    {
      "cell_type": "markdown",
      "metadata": {
        "id": "wsefbPZKKMN-",
        "colab_type": "text"
      },
      "source": [
        "# Train"
      ]
    },
    {
      "cell_type": "code",
      "metadata": {
        "id": "1ltM5w7SySxQ",
        "colab_type": "code",
        "colab": {}
      },
      "source": [
        "def train(args, model):\n",
        "    \n",
        "    \n",
        "    # Numpy random seed\n",
        "    np.random.seed(args.seed)\n",
        "    \n",
        "    # Save directory\n",
        "    # Create the outputs folder if not created already\n",
        "    save_dir = \"outputs/\" + args.experiment_name\n",
        "    if not os.path.exists(save_dir):\n",
        "        os.makedirs(save_dir)\n",
        "\n",
        "   \n",
        "    \n",
        "\n",
        "    # Adam only updates learned_parameters\n",
        "    optimizer = torch.optim.Adam(model.parameters(), lr=args.learn_rate)\n",
        "\n",
        "    train_loader, valid_loader = initialize_loader(args.train_batch_size, args.val_batch_size)\n",
        "    print(\"Train set: {}, Test set: {}\".format(\n",
        "            train_loader.dataset.num_files, valid_loader.dataset.num_files))\n",
        "\n",
        "    print(\"Beginning training ...\")\n",
        "    if args.gpu: \n",
        "        model.cuda()\n",
        "\n",
        "    start = time.time()\n",
        "    trn_losses = []\n",
        "    val_losses = []\n",
        "    val_ious = []\n",
        "    best_iou = 0\n",
        "\n",
        "    for epoch in range(args.epochs):\n",
        "\n",
        "        # Train the Model\n",
        "        model.train() # Change model to 'train' mode\n",
        "        start_tr = time.time()\n",
        "        \n",
        "        \n",
        "        losses = []\n",
        "        for i, (images, masks) in enumerate(train_loader):\n",
        "            permute_masks = masks.permute(0, 3, 1, 2)       # to match the input size: B, C, H, W\n",
        "            binary_masks = convert_to_binary(permute_masks) # B, H, W\n",
        "            if args.gpu:\n",
        "                images = images.cuda()\n",
        "                binary_masks = binary_masks.cuda()\n",
        "\n",
        "            # Forward + Backward + Optimize\n",
        "            optimizer.zero_grad()\n",
        "            output = model(images.float())\n",
        "            pred_seg_masks = output\n",
        "\n",
        "            _, pred_labels = torch.max(pred_seg_masks, 1, keepdim=True)\n",
        "            loss = compute_loss(pred_seg_masks, binary_masks)\n",
        "            loss.backward()\n",
        "            optimizer.step()\n",
        "            losses.append(loss.data.item())\n",
        "\n",
        "        # plot training images\n",
        "        if args.plot:\n",
        "            plot_prediction(args, model, True, index_list=[0], plotpath=save_dir+'/train_%d.png' % epoch, title='Train_%d' % epoch)\n",
        "\n",
        "        # plot training images\n",
        "        trn_loss = np.mean(losses)\n",
        "        trn_losses.append(trn_loss)\n",
        "        time_elapsed = time.time() - start_tr\n",
        "        print('Epoch [%d/%d], Loss: %.4f, Time (s): %d' % (\n",
        "                epoch+1, args.epochs, trn_loss, time_elapsed))\n",
        "\n",
        "        # Evaluate the model\n",
        "        start_val = time.time()\n",
        "        val_loss, val_iou = run_validation_step(args, \n",
        "                                                epoch, \n",
        "                                                model,\n",
        "                                                valid_loader, \n",
        "                                                save_dir+'/val_%d.png' % epoch)\n",
        "\n",
        "        if val_iou > best_iou:\n",
        "            best_iou = val_iou\n",
        "            torch.save(model.state_dict(), os.path.join(save_dir, args.checkpoint_name + '-best.ckpt'))\n",
        "\n",
        "        time_elapsed = time.time() - start_val\n",
        "        print('Epoch [%d/%d], Loss: %.4f, mIOU: %.4f, Validation time (s): %d' % (\n",
        "                epoch+1, args.epochs, val_loss, val_iou, time_elapsed))\n",
        "        \n",
        "        val_losses.append(val_loss)\n",
        "        val_ious.append(val_iou)\n",
        "    \n",
        "\n",
        "    # Plot training curve\n",
        "    plt.figure()\n",
        "    plt.plot(trn_losses, \"ro-\", label=\"Train\")\n",
        "    plt.plot(val_losses, \"go-\", label=\"Validation\")\n",
        "    plt.legend()\n",
        "    plt.title(\"Loss\")\n",
        "    plt.xlabel(\"Epochs\")\n",
        "    plt.savefig(save_dir+\"/training_curve.png\")\n",
        "\n",
        "    # Plot validation iou curve\n",
        "    plt.figure()\n",
        "    plt.plot(val_ious, \"ro-\", label=\"mIOU\")\n",
        "    plt.legend()\n",
        "    plt.title(\"mIOU\")\n",
        "    plt.xlabel(\"Epochs\")\n",
        "    plt.savefig(save_dir+\"/val_iou_curve.png\")\n",
        "\n",
        "    print('Saving model...')\n",
        "    torch.save(model.state_dict(), os.path.join(save_dir, args.checkpoint_name + '-{}-last.ckpt'.format(args.epochs)))\n",
        "\n",
        "    print('Best model achieves mIOU: %.4f' % best_iou)"
      ],
      "execution_count": 0,
      "outputs": []
    },
    {
      "cell_type": "code",
      "metadata": {
        "id": "sNVY7uEMkSoN",
        "colab_type": "code",
        "outputId": "ad0f144d-4163-4391-cf7a-319113ec1882",
        "colab": {
          "base_uri": "https://localhost:8080/",
          "height": 1000
        }
      },
      "source": [
        "class AttrDict(dict):\n",
        "    def __init__(self, *args, **kwargs):\n",
        "        super(AttrDict, self).__init__(*args, **kwargs)\n",
        "        self.__dict__ = self\n",
        "args = AttrDict()\n",
        "\n",
        "my_model_dict = {\n",
        "              'gpu':True, \n",
        "              'checkpoint_name':\"unet-segmentation\", \n",
        "              'learn_rate':0.05, \n",
        "              'train_batch_size':64, \n",
        "              'val_batch_size': 128, \n",
        "              'epochs':100 ,\n",
        "              'seed':0,\n",
        "              'plot':True, \n",
        "              'experiment_name': 'unet-segmentation',\n",
        "}\n",
        "args.update(my_model_dict)\n",
        "unet_model = UNet(3, num_filters=64)\n",
        "print(count_parameters(unet_model))\n",
        "torch.cuda.empty_cache\n",
        "torch.cuda.caching_allocator_delete\n",
        "train(args, unet_model)"
      ],
      "execution_count": 87,
      "outputs": [
        {
          "output_type": "stream",
          "text": [
            "375150\n",
            "Train set: 284, Test set: 51\n",
            "Beginning training ...\n"
          ],
          "name": "stdout"
        },
        {
          "output_type": "stream",
          "text": [
            "Clipping input data to the valid range for imshow with RGB data ([0..1] for floats or [0..255] for integers).\n"
          ],
          "name": "stderr"
        },
        {
          "output_type": "stream",
          "text": [
            "Epoch [1/100], Loss: 0.8679, Time (s): 6\n"
          ],
          "name": "stdout"
        },
        {
          "output_type": "stream",
          "text": [
            "Clipping input data to the valid range for imshow with RGB data ([0..1] for floats or [0..255] for integers).\n"
          ],
          "name": "stderr"
        },
        {
          "output_type": "stream",
          "text": [
            "Epoch [1/100], Loss: 0.7289, mIOU: 0.3490, Validation time (s): 2\n"
          ],
          "name": "stdout"
        },
        {
          "output_type": "stream",
          "text": [
            "Exception ignored in: Traceback (most recent call last):\n",
            "  File \"/usr/lib/python3.6/multiprocessing/queues.py\", line 240, in _feed\n",
            "    send_bytes(obj)\n",
            "  File \"/usr/lib/python3.6/multiprocessing/connection.py\", line 200, in send_bytes\n",
            "    self._send_bytes(m[offset:offset + size])\n",
            "  File \"/usr/lib/python3.6/multiprocessing/connection.py\", line 404, in _send_bytes\n",
            "    self._send(header + buf)\n",
            "  File \"/usr/lib/python3.6/multiprocessing/connection.py\", line 368, in _send\n",
            "    n = write(self._handle, buf)\n",
            "BrokenPipeError: [Errno 32] Broken pipe\n",
            "<bound method _ConnectionBase.__del__ of <multiprocessing.connection.Connection object at 0x7f9b36ba7518>>\n",
            "Traceback (most recent call last):\n",
            "  File \"/usr/lib/python3.6/multiprocessing/connection.py\", line 132, in __del__\n",
            "Traceback (most recent call last):\n",
            "      File \"/usr/lib/python3.6/multiprocessing/queues.py\", line 230, in _feed\n",
            "    close()\n",
            "  File \"/usr/lib/python3.6/multiprocessing/connection.py\", line 177, in close\n",
            "    self._close()\n",
            "  File \"/usr/lib/python3.6/multiprocessing/connection.py\", line 361, in _close\n",
            "    _close(self._handle)\n",
            "OSError: [Errno 9] Bad file descriptor\n",
            "self._close()\n",
            "  File \"/usr/lib/python3.6/multiprocessing/connection.py\", line 361, in _close\n",
            "    _close(self._handle)\n",
            "OSError: [Errno 9] Bad file descriptor\n"
          ],
          "name": "stderr"
        },
        {
          "output_type": "stream",
          "text": [
            "Epoch [2/100], Loss: 0.6967, Time (s): 9\n"
          ],
          "name": "stdout"
        },
        {
          "output_type": "stream",
          "text": [
            "Clipping input data to the valid range for imshow with RGB data ([0..1] for floats or [0..255] for integers).\n"
          ],
          "name": "stderr"
        },
        {
          "output_type": "stream",
          "text": [
            "Epoch [2/100], Loss: 0.7162, mIOU: 0.3686, Validation time (s): 2\n"
          ],
          "name": "stdout"
        },
        {
          "output_type": "stream",
          "text": [
            "Clipping input data to the valid range for imshow with RGB data ([0..1] for floats or [0..255] for integers).\n"
          ],
          "name": "stderr"
        },
        {
          "output_type": "stream",
          "text": [
            "Epoch [3/100], Loss: 0.6903, Time (s): 7\n"
          ],
          "name": "stdout"
        },
        {
          "output_type": "stream",
          "text": [
            "Clipping input data to the valid range for imshow with RGB data ([0..1] for floats or [0..255] for integers).\n"
          ],
          "name": "stderr"
        },
        {
          "output_type": "stream",
          "text": [
            "Epoch [3/100], Loss: 0.7065, mIOU: 0.3824, Validation time (s): 2\n"
          ],
          "name": "stdout"
        },
        {
          "output_type": "stream",
          "text": [
            "Clipping input data to the valid range for imshow with RGB data ([0..1] for floats or [0..255] for integers).\n"
          ],
          "name": "stderr"
        },
        {
          "output_type": "stream",
          "text": [
            "Epoch [4/100], Loss: 0.6788, Time (s): 6\n"
          ],
          "name": "stdout"
        },
        {
          "output_type": "stream",
          "text": [
            "Clipping input data to the valid range for imshow with RGB data ([0..1] for floats or [0..255] for integers).\n"
          ],
          "name": "stderr"
        },
        {
          "output_type": "stream",
          "text": [
            "Epoch [4/100], Loss: 0.6926, mIOU: 0.4176, Validation time (s): 2\n"
          ],
          "name": "stdout"
        },
        {
          "output_type": "stream",
          "text": [
            "Clipping input data to the valid range for imshow with RGB data ([0..1] for floats or [0..255] for integers).\n"
          ],
          "name": "stderr"
        },
        {
          "output_type": "stream",
          "text": [
            "Epoch [5/100], Loss: 0.6772, Time (s): 6\n"
          ],
          "name": "stdout"
        },
        {
          "output_type": "stream",
          "text": [
            "Clipping input data to the valid range for imshow with RGB data ([0..1] for floats or [0..255] for integers).\n"
          ],
          "name": "stderr"
        },
        {
          "output_type": "stream",
          "text": [
            "Epoch [5/100], Loss: 0.6787, mIOU: 0.4667, Validation time (s): 2\n"
          ],
          "name": "stdout"
        },
        {
          "output_type": "stream",
          "text": [
            "Clipping input data to the valid range for imshow with RGB data ([0..1] for floats or [0..255] for integers).\n"
          ],
          "name": "stderr"
        },
        {
          "output_type": "stream",
          "text": [
            "Epoch [6/100], Loss: 0.6734, Time (s): 7\n"
          ],
          "name": "stdout"
        },
        {
          "output_type": "stream",
          "text": [
            "Clipping input data to the valid range for imshow with RGB data ([0..1] for floats or [0..255] for integers).\n"
          ],
          "name": "stderr"
        },
        {
          "output_type": "stream",
          "text": [
            "Epoch [6/100], Loss: 0.6710, mIOU: 0.4902, Validation time (s): 5\n"
          ],
          "name": "stdout"
        },
        {
          "output_type": "stream",
          "text": [
            "Clipping input data to the valid range for imshow with RGB data ([0..1] for floats or [0..255] for integers).\n"
          ],
          "name": "stderr"
        },
        {
          "output_type": "stream",
          "text": [
            "Epoch [7/100], Loss: 0.6702, Time (s): 7\n"
          ],
          "name": "stdout"
        },
        {
          "output_type": "stream",
          "text": [
            "Clipping input data to the valid range for imshow with RGB data ([0..1] for floats or [0..255] for integers).\n"
          ],
          "name": "stderr"
        },
        {
          "output_type": "stream",
          "text": [
            "Epoch [7/100], Loss: 0.6655, mIOU: 0.5059, Validation time (s): 2\n"
          ],
          "name": "stdout"
        },
        {
          "output_type": "stream",
          "text": [
            "Clipping input data to the valid range for imshow with RGB data ([0..1] for floats or [0..255] for integers).\n"
          ],
          "name": "stderr"
        },
        {
          "output_type": "stream",
          "text": [
            "Epoch [8/100], Loss: 0.6657, Time (s): 7\n"
          ],
          "name": "stdout"
        },
        {
          "output_type": "stream",
          "text": [
            "Clipping input data to the valid range for imshow with RGB data ([0..1] for floats or [0..255] for integers).\n"
          ],
          "name": "stderr"
        },
        {
          "output_type": "stream",
          "text": [
            "Epoch [8/100], Loss: 0.6614, mIOU: 0.5176, Validation time (s): 2\n",
            "Epoch [9/100], Loss: 0.6614, Time (s): 7\n"
          ],
          "name": "stdout"
        },
        {
          "output_type": "stream",
          "text": [
            "Clipping input data to the valid range for imshow with RGB data ([0..1] for floats or [0..255] for integers).\n"
          ],
          "name": "stderr"
        },
        {
          "output_type": "stream",
          "text": [
            "Epoch [9/100], Loss: 0.6534, mIOU: 0.5471, Validation time (s): 2\n"
          ],
          "name": "stdout"
        },
        {
          "output_type": "stream",
          "text": [
            "Clipping input data to the valid range for imshow with RGB data ([0..1] for floats or [0..255] for integers).\n"
          ],
          "name": "stderr"
        },
        {
          "output_type": "stream",
          "text": [
            "Epoch [10/100], Loss: 0.6695, Time (s): 7\n"
          ],
          "name": "stdout"
        },
        {
          "output_type": "stream",
          "text": [
            "Clipping input data to the valid range for imshow with RGB data ([0..1] for floats or [0..255] for integers).\n"
          ],
          "name": "stderr"
        },
        {
          "output_type": "stream",
          "text": [
            "Epoch [10/100], Loss: 0.6697, mIOU: 0.5098, Validation time (s): 2\n"
          ],
          "name": "stdout"
        },
        {
          "output_type": "stream",
          "text": [
            "Clipping input data to the valid range for imshow with RGB data ([0..1] for floats or [0..255] for integers).\n"
          ],
          "name": "stderr"
        },
        {
          "output_type": "stream",
          "text": [
            "Epoch [11/100], Loss: 0.6698, Time (s): 7\n"
          ],
          "name": "stdout"
        },
        {
          "output_type": "stream",
          "text": [
            "Clipping input data to the valid range for imshow with RGB data ([0..1] for floats or [0..255] for integers).\n"
          ],
          "name": "stderr"
        },
        {
          "output_type": "stream",
          "text": [
            "Epoch [11/100], Loss: 0.6693, mIOU: 0.5078, Validation time (s): 2\n"
          ],
          "name": "stdout"
        },
        {
          "output_type": "stream",
          "text": [
            "Clipping input data to the valid range for imshow with RGB data ([0..1] for floats or [0..255] for integers).\n"
          ],
          "name": "stderr"
        },
        {
          "output_type": "stream",
          "text": [
            "Epoch [12/100], Loss: 0.6635, Time (s): 7\n"
          ],
          "name": "stdout"
        },
        {
          "output_type": "stream",
          "text": [
            "Clipping input data to the valid range for imshow with RGB data ([0..1] for floats or [0..255] for integers).\n"
          ],
          "name": "stderr"
        },
        {
          "output_type": "stream",
          "text": [
            "Epoch [12/100], Loss: 0.6632, mIOU: 0.5118, Validation time (s): 2\n"
          ],
          "name": "stdout"
        },
        {
          "output_type": "stream",
          "text": [
            "Clipping input data to the valid range for imshow with RGB data ([0..1] for floats or [0..255] for integers).\n"
          ],
          "name": "stderr"
        },
        {
          "output_type": "stream",
          "text": [
            "Epoch [13/100], Loss: 0.6664, Time (s): 7\n"
          ],
          "name": "stdout"
        },
        {
          "output_type": "stream",
          "text": [
            "Clipping input data to the valid range for imshow with RGB data ([0..1] for floats or [0..255] for integers).\n"
          ],
          "name": "stderr"
        },
        {
          "output_type": "stream",
          "text": [
            "Epoch [13/100], Loss: 0.6585, mIOU: 0.5255, Validation time (s): 2\n",
            "Epoch [14/100], Loss: 0.6631, Time (s): 6\n"
          ],
          "name": "stdout"
        },
        {
          "output_type": "stream",
          "text": [
            "Clipping input data to the valid range for imshow with RGB data ([0..1] for floats or [0..255] for integers).\n"
          ],
          "name": "stderr"
        },
        {
          "output_type": "stream",
          "text": [
            "Epoch [14/100], Loss: 0.6554, mIOU: 0.5392, Validation time (s): 2\n",
            "Epoch [15/100], Loss: 0.6563, Time (s): 7\n"
          ],
          "name": "stdout"
        },
        {
          "output_type": "stream",
          "text": [
            "Clipping input data to the valid range for imshow with RGB data ([0..1] for floats or [0..255] for integers).\n"
          ],
          "name": "stderr"
        },
        {
          "output_type": "stream",
          "text": [
            "Epoch [15/100], Loss: 0.6514, mIOU: 0.5569, Validation time (s): 2\n"
          ],
          "name": "stdout"
        },
        {
          "output_type": "stream",
          "text": [
            "Clipping input data to the valid range for imshow with RGB data ([0..1] for floats or [0..255] for integers).\n"
          ],
          "name": "stderr"
        },
        {
          "output_type": "stream",
          "text": [
            "Epoch [16/100], Loss: 0.6537, Time (s): 7\n"
          ],
          "name": "stdout"
        },
        {
          "output_type": "stream",
          "text": [
            "Clipping input data to the valid range for imshow with RGB data ([0..1] for floats or [0..255] for integers).\n"
          ],
          "name": "stderr"
        },
        {
          "output_type": "stream",
          "text": [
            "Epoch [16/100], Loss: 0.6502, mIOU: 0.5490, Validation time (s): 2\n"
          ],
          "name": "stdout"
        },
        {
          "output_type": "stream",
          "text": [
            "Clipping input data to the valid range for imshow with RGB data ([0..1] for floats or [0..255] for integers).\n"
          ],
          "name": "stderr"
        },
        {
          "output_type": "stream",
          "text": [
            "Epoch [17/100], Loss: 0.6436, Time (s): 7\n"
          ],
          "name": "stdout"
        },
        {
          "output_type": "stream",
          "text": [
            "Clipping input data to the valid range for imshow with RGB data ([0..1] for floats or [0..255] for integers).\n"
          ],
          "name": "stderr"
        },
        {
          "output_type": "stream",
          "text": [
            "Epoch [17/100], Loss: 0.7387, mIOU: 0.2647, Validation time (s): 2\n"
          ],
          "name": "stdout"
        },
        {
          "output_type": "stream",
          "text": [
            "Clipping input data to the valid range for imshow with RGB data ([0..1] for floats or [0..255] for integers).\n"
          ],
          "name": "stderr"
        },
        {
          "output_type": "stream",
          "text": [
            "Epoch [18/100], Loss: 0.6437, Time (s): 7\n"
          ],
          "name": "stdout"
        },
        {
          "output_type": "stream",
          "text": [
            "Clipping input data to the valid range for imshow with RGB data ([0..1] for floats or [0..255] for integers).\n"
          ],
          "name": "stderr"
        },
        {
          "output_type": "stream",
          "text": [
            "Epoch [18/100], Loss: 0.6575, mIOU: 0.4980, Validation time (s): 2\n"
          ],
          "name": "stdout"
        },
        {
          "output_type": "stream",
          "text": [
            "Clipping input data to the valid range for imshow with RGB data ([0..1] for floats or [0..255] for integers).\n"
          ],
          "name": "stderr"
        },
        {
          "output_type": "stream",
          "text": [
            "Epoch [19/100], Loss: 0.6348, Time (s): 7\n"
          ],
          "name": "stdout"
        },
        {
          "output_type": "stream",
          "text": [
            "Clipping input data to the valid range for imshow with RGB data ([0..1] for floats or [0..255] for integers).\n"
          ],
          "name": "stderr"
        },
        {
          "output_type": "stream",
          "text": [
            "Epoch [19/100], Loss: 0.6781, mIOU: 0.3902, Validation time (s): 2\n"
          ],
          "name": "stdout"
        },
        {
          "output_type": "stream",
          "text": [
            "Clipping input data to the valid range for imshow with RGB data ([0..1] for floats or [0..255] for integers).\n"
          ],
          "name": "stderr"
        },
        {
          "output_type": "stream",
          "text": [
            "Epoch [20/100], Loss: 0.6395, Time (s): 7\n"
          ],
          "name": "stdout"
        },
        {
          "output_type": "stream",
          "text": [
            "Clipping input data to the valid range for imshow with RGB data ([0..1] for floats or [0..255] for integers).\n"
          ],
          "name": "stderr"
        },
        {
          "output_type": "stream",
          "text": [
            "Epoch [20/100], Loss: 0.6473, mIOU: 0.5118, Validation time (s): 2\n"
          ],
          "name": "stdout"
        },
        {
          "output_type": "stream",
          "text": [
            "Clipping input data to the valid range for imshow with RGB data ([0..1] for floats or [0..255] for integers).\n"
          ],
          "name": "stderr"
        },
        {
          "output_type": "stream",
          "text": [
            "Epoch [21/100], Loss: 0.6306, Time (s): 7\n"
          ],
          "name": "stdout"
        },
        {
          "output_type": "stream",
          "text": [
            "Clipping input data to the valid range for imshow with RGB data ([0..1] for floats or [0..255] for integers).\n"
          ],
          "name": "stderr"
        },
        {
          "output_type": "stream",
          "text": [
            "Epoch [21/100], Loss: 0.6348, mIOU: 0.6275, Validation time (s): 2\n"
          ],
          "name": "stdout"
        },
        {
          "output_type": "stream",
          "text": [
            "Clipping input data to the valid range for imshow with RGB data ([0..1] for floats or [0..255] for integers).\n"
          ],
          "name": "stderr"
        },
        {
          "output_type": "stream",
          "text": [
            "Epoch [22/100], Loss: 0.6296, Time (s): 7\n"
          ],
          "name": "stdout"
        },
        {
          "output_type": "stream",
          "text": [
            "Clipping input data to the valid range for imshow with RGB data ([0..1] for floats or [0..255] for integers).\n"
          ],
          "name": "stderr"
        },
        {
          "output_type": "stream",
          "text": [
            "Epoch [22/100], Loss: 0.6265, mIOU: 0.6490, Validation time (s): 2\n"
          ],
          "name": "stdout"
        },
        {
          "output_type": "stream",
          "text": [
            "Clipping input data to the valid range for imshow with RGB data ([0..1] for floats or [0..255] for integers).\n"
          ],
          "name": "stderr"
        },
        {
          "output_type": "stream",
          "text": [
            "Epoch [23/100], Loss: 0.6326, Time (s): 7\n"
          ],
          "name": "stdout"
        },
        {
          "output_type": "stream",
          "text": [
            "Clipping input data to the valid range for imshow with RGB data ([0..1] for floats or [0..255] for integers).\n"
          ],
          "name": "stderr"
        },
        {
          "output_type": "stream",
          "text": [
            "Epoch [23/100], Loss: 0.6312, mIOU: 0.6490, Validation time (s): 2\n"
          ],
          "name": "stdout"
        },
        {
          "output_type": "stream",
          "text": [
            "Clipping input data to the valid range for imshow with RGB data ([0..1] for floats or [0..255] for integers).\n"
          ],
          "name": "stderr"
        },
        {
          "output_type": "stream",
          "text": [
            "Epoch [24/100], Loss: 0.6269, Time (s): 7\n"
          ],
          "name": "stdout"
        },
        {
          "output_type": "stream",
          "text": [
            "Clipping input data to the valid range for imshow with RGB data ([0..1] for floats or [0..255] for integers).\n"
          ],
          "name": "stderr"
        },
        {
          "output_type": "stream",
          "text": [
            "Epoch [24/100], Loss: 0.6270, mIOU: 0.6608, Validation time (s): 2\n"
          ],
          "name": "stdout"
        },
        {
          "output_type": "stream",
          "text": [
            "Clipping input data to the valid range for imshow with RGB data ([0..1] for floats or [0..255] for integers).\n"
          ],
          "name": "stderr"
        },
        {
          "output_type": "stream",
          "text": [
            "Epoch [25/100], Loss: 0.6294, Time (s): 7\n"
          ],
          "name": "stdout"
        },
        {
          "output_type": "stream",
          "text": [
            "Clipping input data to the valid range for imshow with RGB data ([0..1] for floats or [0..255] for integers).\n"
          ],
          "name": "stderr"
        },
        {
          "output_type": "stream",
          "text": [
            "Epoch [25/100], Loss: 0.6287, mIOU: 0.6667, Validation time (s): 2\n"
          ],
          "name": "stdout"
        },
        {
          "output_type": "stream",
          "text": [
            "Clipping input data to the valid range for imshow with RGB data ([0..1] for floats or [0..255] for integers).\n"
          ],
          "name": "stderr"
        },
        {
          "output_type": "stream",
          "text": [
            "Epoch [26/100], Loss: 0.6223, Time (s): 7\n"
          ],
          "name": "stdout"
        },
        {
          "output_type": "stream",
          "text": [
            "Clipping input data to the valid range for imshow with RGB data ([0..1] for floats or [0..255] for integers).\n"
          ],
          "name": "stderr"
        },
        {
          "output_type": "stream",
          "text": [
            "Epoch [26/100], Loss: 0.6213, mIOU: 0.6882, Validation time (s): 2\n",
            "Epoch [27/100], Loss: 0.6207, Time (s): 7\n"
          ],
          "name": "stdout"
        },
        {
          "output_type": "stream",
          "text": [
            "Clipping input data to the valid range for imshow with RGB data ([0..1] for floats or [0..255] for integers).\n"
          ],
          "name": "stderr"
        },
        {
          "output_type": "stream",
          "text": [
            "Epoch [27/100], Loss: 0.6166, mIOU: 0.7078, Validation time (s): 2\n"
          ],
          "name": "stdout"
        },
        {
          "output_type": "stream",
          "text": [
            "Clipping input data to the valid range for imshow with RGB data ([0..1] for floats or [0..255] for integers).\n"
          ],
          "name": "stderr"
        },
        {
          "output_type": "stream",
          "text": [
            "Epoch [28/100], Loss: 0.6148, Time (s): 7\n"
          ],
          "name": "stdout"
        },
        {
          "output_type": "stream",
          "text": [
            "Clipping input data to the valid range for imshow with RGB data ([0..1] for floats or [0..255] for integers).\n"
          ],
          "name": "stderr"
        },
        {
          "output_type": "stream",
          "text": [
            "Epoch [28/100], Loss: 0.6199, mIOU: 0.6549, Validation time (s): 2\n"
          ],
          "name": "stdout"
        },
        {
          "output_type": "stream",
          "text": [
            "Clipping input data to the valid range for imshow with RGB data ([0..1] for floats or [0..255] for integers).\n"
          ],
          "name": "stderr"
        },
        {
          "output_type": "stream",
          "text": [
            "Epoch [29/100], Loss: 0.6134, Time (s): 7\n"
          ],
          "name": "stdout"
        },
        {
          "output_type": "stream",
          "text": [
            "Clipping input data to the valid range for imshow with RGB data ([0..1] for floats or [0..255] for integers).\n"
          ],
          "name": "stderr"
        },
        {
          "output_type": "stream",
          "text": [
            "Epoch [29/100], Loss: 0.6141, mIOU: 0.7235, Validation time (s): 2\n"
          ],
          "name": "stdout"
        },
        {
          "output_type": "stream",
          "text": [
            "Clipping input data to the valid range for imshow with RGB data ([0..1] for floats or [0..255] for integers).\n"
          ],
          "name": "stderr"
        },
        {
          "output_type": "stream",
          "text": [
            "Epoch [30/100], Loss: 0.6050, Time (s): 7\n"
          ],
          "name": "stdout"
        },
        {
          "output_type": "stream",
          "text": [
            "Clipping input data to the valid range for imshow with RGB data ([0..1] for floats or [0..255] for integers).\n"
          ],
          "name": "stderr"
        },
        {
          "output_type": "stream",
          "text": [
            "Epoch [30/100], Loss: 0.6030, mIOU: 0.7706, Validation time (s): 2\n"
          ],
          "name": "stdout"
        },
        {
          "output_type": "stream",
          "text": [
            "Clipping input data to the valid range for imshow with RGB data ([0..1] for floats or [0..255] for integers).\n"
          ],
          "name": "stderr"
        },
        {
          "output_type": "stream",
          "text": [
            "Epoch [31/100], Loss: 0.6040, Time (s): 7\n"
          ],
          "name": "stdout"
        },
        {
          "output_type": "stream",
          "text": [
            "Clipping input data to the valid range for imshow with RGB data ([0..1] for floats or [0..255] for integers).\n"
          ],
          "name": "stderr"
        },
        {
          "output_type": "stream",
          "text": [
            "Epoch [31/100], Loss: 0.5994, mIOU: 0.7784, Validation time (s): 2\n"
          ],
          "name": "stdout"
        },
        {
          "output_type": "stream",
          "text": [
            "Clipping input data to the valid range for imshow with RGB data ([0..1] for floats or [0..255] for integers).\n"
          ],
          "name": "stderr"
        },
        {
          "output_type": "stream",
          "text": [
            "Epoch [32/100], Loss: 0.6067, Time (s): 7\n"
          ],
          "name": "stdout"
        },
        {
          "output_type": "stream",
          "text": [
            "Clipping input data to the valid range for imshow with RGB data ([0..1] for floats or [0..255] for integers).\n"
          ],
          "name": "stderr"
        },
        {
          "output_type": "stream",
          "text": [
            "Epoch [32/100], Loss: 0.6014, mIOU: 0.7725, Validation time (s): 2\n"
          ],
          "name": "stdout"
        },
        {
          "output_type": "stream",
          "text": [
            "Clipping input data to the valid range for imshow with RGB data ([0..1] for floats or [0..255] for integers).\n"
          ],
          "name": "stderr"
        },
        {
          "output_type": "stream",
          "text": [
            "Epoch [33/100], Loss: 0.6037, Time (s): 7\n"
          ],
          "name": "stdout"
        },
        {
          "output_type": "stream",
          "text": [
            "Clipping input data to the valid range for imshow with RGB data ([0..1] for floats or [0..255] for integers).\n"
          ],
          "name": "stderr"
        },
        {
          "output_type": "stream",
          "text": [
            "Epoch [33/100], Loss: 0.5996, mIOU: 0.7922, Validation time (s): 2\n"
          ],
          "name": "stdout"
        },
        {
          "output_type": "stream",
          "text": [
            "Clipping input data to the valid range for imshow with RGB data ([0..1] for floats or [0..255] for integers).\n"
          ],
          "name": "stderr"
        },
        {
          "output_type": "stream",
          "text": [
            "Epoch [34/100], Loss: 0.6022, Time (s): 7\n"
          ],
          "name": "stdout"
        },
        {
          "output_type": "stream",
          "text": [
            "Clipping input data to the valid range for imshow with RGB data ([0..1] for floats or [0..255] for integers).\n"
          ],
          "name": "stderr"
        },
        {
          "output_type": "stream",
          "text": [
            "Epoch [34/100], Loss: 0.5969, mIOU: 0.7922, Validation time (s): 2\n"
          ],
          "name": "stdout"
        },
        {
          "output_type": "stream",
          "text": [
            "Clipping input data to the valid range for imshow with RGB data ([0..1] for floats or [0..255] for integers).\n"
          ],
          "name": "stderr"
        },
        {
          "output_type": "stream",
          "text": [
            "Epoch [35/100], Loss: 0.6045, Time (s): 6\n"
          ],
          "name": "stdout"
        },
        {
          "output_type": "stream",
          "text": [
            "Clipping input data to the valid range for imshow with RGB data ([0..1] for floats or [0..255] for integers).\n"
          ],
          "name": "stderr"
        },
        {
          "output_type": "stream",
          "text": [
            "Epoch [35/100], Loss: 0.6007, mIOU: 0.7765, Validation time (s): 2\n"
          ],
          "name": "stdout"
        },
        {
          "output_type": "stream",
          "text": [
            "Clipping input data to the valid range for imshow with RGB data ([0..1] for floats or [0..255] for integers).\n"
          ],
          "name": "stderr"
        },
        {
          "output_type": "stream",
          "text": [
            "Epoch [36/100], Loss: 0.6073, Time (s): 7\n"
          ],
          "name": "stdout"
        },
        {
          "output_type": "stream",
          "text": [
            "Clipping input data to the valid range for imshow with RGB data ([0..1] for floats or [0..255] for integers).\n"
          ],
          "name": "stderr"
        },
        {
          "output_type": "stream",
          "text": [
            "Epoch [36/100], Loss: 0.6093, mIOU: 0.7451, Validation time (s): 2\n"
          ],
          "name": "stdout"
        },
        {
          "output_type": "stream",
          "text": [
            "Clipping input data to the valid range for imshow with RGB data ([0..1] for floats or [0..255] for integers).\n"
          ],
          "name": "stderr"
        },
        {
          "output_type": "stream",
          "text": [
            "Epoch [37/100], Loss: 0.6098, Time (s): 7\n"
          ],
          "name": "stdout"
        },
        {
          "output_type": "stream",
          "text": [
            "Clipping input data to the valid range for imshow with RGB data ([0..1] for floats or [0..255] for integers).\n"
          ],
          "name": "stderr"
        },
        {
          "output_type": "stream",
          "text": [
            "Epoch [37/100], Loss: 0.6176, mIOU: 0.6569, Validation time (s): 2\n",
            "Epoch [38/100], Loss: 0.6076, Time (s): 7\n"
          ],
          "name": "stdout"
        },
        {
          "output_type": "stream",
          "text": [
            "Clipping input data to the valid range for imshow with RGB data ([0..1] for floats or [0..255] for integers).\n"
          ],
          "name": "stderr"
        },
        {
          "output_type": "stream",
          "text": [
            "Epoch [38/100], Loss: 0.6077, mIOU: 0.7529, Validation time (s): 2\n"
          ],
          "name": "stdout"
        },
        {
          "output_type": "stream",
          "text": [
            "Clipping input data to the valid range for imshow with RGB data ([0..1] for floats or [0..255] for integers).\n"
          ],
          "name": "stderr"
        },
        {
          "output_type": "stream",
          "text": [
            "Epoch [39/100], Loss: 0.6057, Time (s): 7\n"
          ],
          "name": "stdout"
        },
        {
          "output_type": "stream",
          "text": [
            "Clipping input data to the valid range for imshow with RGB data ([0..1] for floats or [0..255] for integers).\n"
          ],
          "name": "stderr"
        },
        {
          "output_type": "stream",
          "text": [
            "Epoch [39/100], Loss: 0.6002, mIOU: 0.7784, Validation time (s): 2\n"
          ],
          "name": "stdout"
        },
        {
          "output_type": "stream",
          "text": [
            "Clipping input data to the valid range for imshow with RGB data ([0..1] for floats or [0..255] for integers).\n"
          ],
          "name": "stderr"
        },
        {
          "output_type": "stream",
          "text": [
            "Epoch [40/100], Loss: 0.6030, Time (s): 6\n"
          ],
          "name": "stdout"
        },
        {
          "output_type": "stream",
          "text": [
            "Clipping input data to the valid range for imshow with RGB data ([0..1] for floats or [0..255] for integers).\n"
          ],
          "name": "stderr"
        },
        {
          "output_type": "stream",
          "text": [
            "Epoch [40/100], Loss: 0.6017, mIOU: 0.7608, Validation time (s): 2\n"
          ],
          "name": "stdout"
        },
        {
          "output_type": "stream",
          "text": [
            "Clipping input data to the valid range for imshow with RGB data ([0..1] for floats or [0..255] for integers).\n"
          ],
          "name": "stderr"
        },
        {
          "output_type": "stream",
          "text": [
            "Epoch [41/100], Loss: 0.6010, Time (s): 6\n"
          ],
          "name": "stdout"
        },
        {
          "output_type": "stream",
          "text": [
            "Clipping input data to the valid range for imshow with RGB data ([0..1] for floats or [0..255] for integers).\n"
          ],
          "name": "stderr"
        },
        {
          "output_type": "stream",
          "text": [
            "Epoch [41/100], Loss: 0.6098, mIOU: 0.7529, Validation time (s): 2\n"
          ],
          "name": "stdout"
        },
        {
          "output_type": "stream",
          "text": [
            "Clipping input data to the valid range for imshow with RGB data ([0..1] for floats or [0..255] for integers).\n"
          ],
          "name": "stderr"
        },
        {
          "output_type": "stream",
          "text": [
            "Epoch [42/100], Loss: 0.5988, Time (s): 6\n"
          ],
          "name": "stdout"
        },
        {
          "output_type": "stream",
          "text": [
            "Clipping input data to the valid range for imshow with RGB data ([0..1] for floats or [0..255] for integers).\n"
          ],
          "name": "stderr"
        },
        {
          "output_type": "stream",
          "text": [
            "Epoch [42/100], Loss: 0.5991, mIOU: 0.7882, Validation time (s): 2\n"
          ],
          "name": "stdout"
        },
        {
          "output_type": "stream",
          "text": [
            "Clipping input data to the valid range for imshow with RGB data ([0..1] for floats or [0..255] for integers).\n"
          ],
          "name": "stderr"
        },
        {
          "output_type": "stream",
          "text": [
            "Epoch [43/100], Loss: 0.6023, Time (s): 7\n"
          ],
          "name": "stdout"
        },
        {
          "output_type": "stream",
          "text": [
            "Clipping input data to the valid range for imshow with RGB data ([0..1] for floats or [0..255] for integers).\n"
          ],
          "name": "stderr"
        },
        {
          "output_type": "stream",
          "text": [
            "Epoch [43/100], Loss: 0.6006, mIOU: 0.7882, Validation time (s): 2\n"
          ],
          "name": "stdout"
        },
        {
          "output_type": "stream",
          "text": [
            "Clipping input data to the valid range for imshow with RGB data ([0..1] for floats or [0..255] for integers).\n"
          ],
          "name": "stderr"
        },
        {
          "output_type": "stream",
          "text": [
            "Epoch [44/100], Loss: 0.6012, Time (s): 7\n"
          ],
          "name": "stdout"
        },
        {
          "output_type": "stream",
          "text": [
            "Clipping input data to the valid range for imshow with RGB data ([0..1] for floats or [0..255] for integers).\n"
          ],
          "name": "stderr"
        },
        {
          "output_type": "stream",
          "text": [
            "Epoch [44/100], Loss: 0.6111, mIOU: 0.7078, Validation time (s): 2\n",
            "Epoch [45/100], Loss: 0.6052, Time (s): 7\n"
          ],
          "name": "stdout"
        },
        {
          "output_type": "stream",
          "text": [
            "Clipping input data to the valid range for imshow with RGB data ([0..1] for floats or [0..255] for integers).\n"
          ],
          "name": "stderr"
        },
        {
          "output_type": "stream",
          "text": [
            "Epoch [45/100], Loss: 0.5946, mIOU: 0.8098, Validation time (s): 2\n"
          ],
          "name": "stdout"
        },
        {
          "output_type": "stream",
          "text": [
            "Clipping input data to the valid range for imshow with RGB data ([0..1] for floats or [0..255] for integers).\n"
          ],
          "name": "stderr"
        },
        {
          "output_type": "stream",
          "text": [
            "Epoch [46/100], Loss: 0.6050, Time (s): 7\n"
          ],
          "name": "stdout"
        },
        {
          "output_type": "stream",
          "text": [
            "Clipping input data to the valid range for imshow with RGB data ([0..1] for floats or [0..255] for integers).\n"
          ],
          "name": "stderr"
        },
        {
          "output_type": "stream",
          "text": [
            "Epoch [46/100], Loss: 0.6137, mIOU: 0.6902, Validation time (s): 2\n"
          ],
          "name": "stdout"
        },
        {
          "output_type": "stream",
          "text": [
            "Clipping input data to the valid range for imshow with RGB data ([0..1] for floats or [0..255] for integers).\n"
          ],
          "name": "stderr"
        },
        {
          "output_type": "stream",
          "text": [
            "Epoch [47/100], Loss: 0.6003, Time (s): 7\n"
          ],
          "name": "stdout"
        },
        {
          "output_type": "stream",
          "text": [
            "Clipping input data to the valid range for imshow with RGB data ([0..1] for floats or [0..255] for integers).\n"
          ],
          "name": "stderr"
        },
        {
          "output_type": "stream",
          "text": [
            "Epoch [47/100], Loss: 0.5947, mIOU: 0.7980, Validation time (s): 2\n"
          ],
          "name": "stdout"
        },
        {
          "output_type": "stream",
          "text": [
            "Clipping input data to the valid range for imshow with RGB data ([0..1] for floats or [0..255] for integers).\n"
          ],
          "name": "stderr"
        },
        {
          "output_type": "stream",
          "text": [
            "Epoch [48/100], Loss: 0.6004, Time (s): 7\n"
          ],
          "name": "stdout"
        },
        {
          "output_type": "stream",
          "text": [
            "Clipping input data to the valid range for imshow with RGB data ([0..1] for floats or [0..255] for integers).\n"
          ],
          "name": "stderr"
        },
        {
          "output_type": "stream",
          "text": [
            "Epoch [48/100], Loss: 0.5969, mIOU: 0.7902, Validation time (s): 2\n"
          ],
          "name": "stdout"
        },
        {
          "output_type": "stream",
          "text": [
            "Clipping input data to the valid range for imshow with RGB data ([0..1] for floats or [0..255] for integers).\n"
          ],
          "name": "stderr"
        },
        {
          "output_type": "stream",
          "text": [
            "Epoch [49/100], Loss: 0.5984, Time (s): 7\n"
          ],
          "name": "stdout"
        },
        {
          "output_type": "stream",
          "text": [
            "Clipping input data to the valid range for imshow with RGB data ([0..1] for floats or [0..255] for integers).\n"
          ],
          "name": "stderr"
        },
        {
          "output_type": "stream",
          "text": [
            "Epoch [49/100], Loss: 0.5960, mIOU: 0.8078, Validation time (s): 2\n"
          ],
          "name": "stdout"
        },
        {
          "output_type": "stream",
          "text": [
            "Clipping input data to the valid range for imshow with RGB data ([0..1] for floats or [0..255] for integers).\n"
          ],
          "name": "stderr"
        },
        {
          "output_type": "stream",
          "text": [
            "Epoch [50/100], Loss: 0.6001, Time (s): 7\n"
          ],
          "name": "stdout"
        },
        {
          "output_type": "stream",
          "text": [
            "Clipping input data to the valid range for imshow with RGB data ([0..1] for floats or [0..255] for integers).\n"
          ],
          "name": "stderr"
        },
        {
          "output_type": "stream",
          "text": [
            "Epoch [50/100], Loss: 0.5995, mIOU: 0.7765, Validation time (s): 2\n"
          ],
          "name": "stdout"
        },
        {
          "output_type": "stream",
          "text": [
            "Clipping input data to the valid range for imshow with RGB data ([0..1] for floats or [0..255] for integers).\n"
          ],
          "name": "stderr"
        },
        {
          "output_type": "stream",
          "text": [
            "Epoch [51/100], Loss: 0.5968, Time (s): 7\n"
          ],
          "name": "stdout"
        },
        {
          "output_type": "stream",
          "text": [
            "Clipping input data to the valid range for imshow with RGB data ([0..1] for floats or [0..255] for integers).\n"
          ],
          "name": "stderr"
        },
        {
          "output_type": "stream",
          "text": [
            "Epoch [51/100], Loss: 0.5939, mIOU: 0.8157, Validation time (s): 2\n"
          ],
          "name": "stdout"
        },
        {
          "output_type": "stream",
          "text": [
            "Clipping input data to the valid range for imshow with RGB data ([0..1] for floats or [0..255] for integers).\n"
          ],
          "name": "stderr"
        },
        {
          "output_type": "stream",
          "text": [
            "Epoch [52/100], Loss: 0.5956, Time (s): 7\n"
          ],
          "name": "stdout"
        },
        {
          "output_type": "stream",
          "text": [
            "Clipping input data to the valid range for imshow with RGB data ([0..1] for floats or [0..255] for integers).\n"
          ],
          "name": "stderr"
        },
        {
          "output_type": "stream",
          "text": [
            "Epoch [52/100], Loss: 0.5958, mIOU: 0.7941, Validation time (s): 2\n"
          ],
          "name": "stdout"
        },
        {
          "output_type": "stream",
          "text": [
            "Clipping input data to the valid range for imshow with RGB data ([0..1] for floats or [0..255] for integers).\n"
          ],
          "name": "stderr"
        },
        {
          "output_type": "stream",
          "text": [
            "Epoch [53/100], Loss: 0.5948, Time (s): 7\n"
          ],
          "name": "stdout"
        },
        {
          "output_type": "stream",
          "text": [
            "Clipping input data to the valid range for imshow with RGB data ([0..1] for floats or [0..255] for integers).\n"
          ],
          "name": "stderr"
        },
        {
          "output_type": "stream",
          "text": [
            "Epoch [53/100], Loss: 0.5913, mIOU: 0.8235, Validation time (s): 2\n"
          ],
          "name": "stdout"
        },
        {
          "output_type": "stream",
          "text": [
            "Clipping input data to the valid range for imshow with RGB data ([0..1] for floats or [0..255] for integers).\n"
          ],
          "name": "stderr"
        },
        {
          "output_type": "stream",
          "text": [
            "Epoch [54/100], Loss: 0.5943, Time (s): 7\n"
          ],
          "name": "stdout"
        },
        {
          "output_type": "stream",
          "text": [
            "Clipping input data to the valid range for imshow with RGB data ([0..1] for floats or [0..255] for integers).\n"
          ],
          "name": "stderr"
        },
        {
          "output_type": "stream",
          "text": [
            "Epoch [54/100], Loss: 0.5913, mIOU: 0.8314, Validation time (s): 2\n"
          ],
          "name": "stdout"
        },
        {
          "output_type": "stream",
          "text": [
            "Clipping input data to the valid range for imshow with RGB data ([0..1] for floats or [0..255] for integers).\n"
          ],
          "name": "stderr"
        },
        {
          "output_type": "stream",
          "text": [
            "Epoch [55/100], Loss: 0.5935, Time (s): 7\n"
          ],
          "name": "stdout"
        },
        {
          "output_type": "stream",
          "text": [
            "Clipping input data to the valid range for imshow with RGB data ([0..1] for floats or [0..255] for integers).\n"
          ],
          "name": "stderr"
        },
        {
          "output_type": "stream",
          "text": [
            "Epoch [55/100], Loss: 0.5944, mIOU: 0.8157, Validation time (s): 2\n"
          ],
          "name": "stdout"
        },
        {
          "output_type": "stream",
          "text": [
            "Clipping input data to the valid range for imshow with RGB data ([0..1] for floats or [0..255] for integers).\n"
          ],
          "name": "stderr"
        },
        {
          "output_type": "stream",
          "text": [
            "Epoch [56/100], Loss: 0.5942, Time (s): 7\n"
          ],
          "name": "stdout"
        },
        {
          "output_type": "stream",
          "text": [
            "Clipping input data to the valid range for imshow with RGB data ([0..1] for floats or [0..255] for integers).\n"
          ],
          "name": "stderr"
        },
        {
          "output_type": "stream",
          "text": [
            "Epoch [56/100], Loss: 0.5937, mIOU: 0.8216, Validation time (s): 2\n",
            "Epoch [57/100], Loss: 0.5957, Time (s): 7\n"
          ],
          "name": "stdout"
        },
        {
          "output_type": "stream",
          "text": [
            "Clipping input data to the valid range for imshow with RGB data ([0..1] for floats or [0..255] for integers).\n"
          ],
          "name": "stderr"
        },
        {
          "output_type": "stream",
          "text": [
            "Epoch [57/100], Loss: 0.5884, mIOU: 0.8431, Validation time (s): 2\n"
          ],
          "name": "stdout"
        },
        {
          "output_type": "stream",
          "text": [
            "Clipping input data to the valid range for imshow with RGB data ([0..1] for floats or [0..255] for integers).\n"
          ],
          "name": "stderr"
        },
        {
          "output_type": "stream",
          "text": [
            "Epoch [58/100], Loss: 0.5926, Time (s): 7\n"
          ],
          "name": "stdout"
        },
        {
          "output_type": "stream",
          "text": [
            "Clipping input data to the valid range for imshow with RGB data ([0..1] for floats or [0..255] for integers).\n"
          ],
          "name": "stderr"
        },
        {
          "output_type": "stream",
          "text": [
            "Epoch [58/100], Loss: 0.5963, mIOU: 0.8098, Validation time (s): 2\n"
          ],
          "name": "stdout"
        },
        {
          "output_type": "stream",
          "text": [
            "Clipping input data to the valid range for imshow with RGB data ([0..1] for floats or [0..255] for integers).\n"
          ],
          "name": "stderr"
        },
        {
          "output_type": "stream",
          "text": [
            "Epoch [59/100], Loss: 0.5932, Time (s): 7\n"
          ],
          "name": "stdout"
        },
        {
          "output_type": "stream",
          "text": [
            "Clipping input data to the valid range for imshow with RGB data ([0..1] for floats or [0..255] for integers).\n"
          ],
          "name": "stderr"
        },
        {
          "output_type": "stream",
          "text": [
            "Epoch [59/100], Loss: 0.5882, mIOU: 0.8431, Validation time (s): 2\n"
          ],
          "name": "stdout"
        },
        {
          "output_type": "stream",
          "text": [
            "Clipping input data to the valid range for imshow with RGB data ([0..1] for floats or [0..255] for integers).\n"
          ],
          "name": "stderr"
        },
        {
          "output_type": "stream",
          "text": [
            "Epoch [60/100], Loss: 0.5906, Time (s): 7\n"
          ],
          "name": "stdout"
        },
        {
          "output_type": "stream",
          "text": [
            "Clipping input data to the valid range for imshow with RGB data ([0..1] for floats or [0..255] for integers).\n"
          ],
          "name": "stderr"
        },
        {
          "output_type": "stream",
          "text": [
            "Epoch [60/100], Loss: 0.5868, mIOU: 0.8510, Validation time (s): 2\n"
          ],
          "name": "stdout"
        },
        {
          "output_type": "stream",
          "text": [
            "Clipping input data to the valid range for imshow with RGB data ([0..1] for floats or [0..255] for integers).\n"
          ],
          "name": "stderr"
        },
        {
          "output_type": "stream",
          "text": [
            "Epoch [61/100], Loss: 0.5930, Time (s): 7\n"
          ],
          "name": "stdout"
        },
        {
          "output_type": "stream",
          "text": [
            "Clipping input data to the valid range for imshow with RGB data ([0..1] for floats or [0..255] for integers).\n"
          ],
          "name": "stderr"
        },
        {
          "output_type": "stream",
          "text": [
            "Epoch [61/100], Loss: 0.5874, mIOU: 0.8471, Validation time (s): 2\n"
          ],
          "name": "stdout"
        },
        {
          "output_type": "stream",
          "text": [
            "Clipping input data to the valid range for imshow with RGB data ([0..1] for floats or [0..255] for integers).\n"
          ],
          "name": "stderr"
        },
        {
          "output_type": "stream",
          "text": [
            "Epoch [62/100], Loss: 0.5923, Time (s): 7\n"
          ],
          "name": "stdout"
        },
        {
          "output_type": "stream",
          "text": [
            "Clipping input data to the valid range for imshow with RGB data ([0..1] for floats or [0..255] for integers).\n"
          ],
          "name": "stderr"
        },
        {
          "output_type": "stream",
          "text": [
            "Epoch [62/100], Loss: 0.5856, mIOU: 0.8588, Validation time (s): 2\n"
          ],
          "name": "stdout"
        },
        {
          "output_type": "stream",
          "text": [
            "Clipping input data to the valid range for imshow with RGB data ([0..1] for floats or [0..255] for integers).\n"
          ],
          "name": "stderr"
        },
        {
          "output_type": "stream",
          "text": [
            "Epoch [63/100], Loss: 0.5891, Time (s): 7\n"
          ],
          "name": "stdout"
        },
        {
          "output_type": "stream",
          "text": [
            "Clipping input data to the valid range for imshow with RGB data ([0..1] for floats or [0..255] for integers).\n"
          ],
          "name": "stderr"
        },
        {
          "output_type": "stream",
          "text": [
            "Epoch [63/100], Loss: 0.5894, mIOU: 0.8333, Validation time (s): 2\n"
          ],
          "name": "stdout"
        },
        {
          "output_type": "stream",
          "text": [
            "Clipping input data to the valid range for imshow with RGB data ([0..1] for floats or [0..255] for integers).\n"
          ],
          "name": "stderr"
        },
        {
          "output_type": "stream",
          "text": [
            "Epoch [64/100], Loss: 0.5922, Time (s): 7\n"
          ],
          "name": "stdout"
        },
        {
          "output_type": "stream",
          "text": [
            "Clipping input data to the valid range for imshow with RGB data ([0..1] for floats or [0..255] for integers).\n"
          ],
          "name": "stderr"
        },
        {
          "output_type": "stream",
          "text": [
            "Epoch [64/100], Loss: 0.6174, mIOU: 0.6627, Validation time (s): 2\n"
          ],
          "name": "stdout"
        },
        {
          "output_type": "stream",
          "text": [
            "Clipping input data to the valid range for imshow with RGB data ([0..1] for floats or [0..255] for integers).\n"
          ],
          "name": "stderr"
        },
        {
          "output_type": "stream",
          "text": [
            "Epoch [65/100], Loss: 0.5950, Time (s): 7\n"
          ],
          "name": "stdout"
        },
        {
          "output_type": "stream",
          "text": [
            "Clipping input data to the valid range for imshow with RGB data ([0..1] for floats or [0..255] for integers).\n"
          ],
          "name": "stderr"
        },
        {
          "output_type": "stream",
          "text": [
            "Epoch [65/100], Loss: 0.5900, mIOU: 0.8353, Validation time (s): 2\n"
          ],
          "name": "stdout"
        },
        {
          "output_type": "stream",
          "text": [
            "Clipping input data to the valid range for imshow with RGB data ([0..1] for floats or [0..255] for integers).\n"
          ],
          "name": "stderr"
        },
        {
          "output_type": "stream",
          "text": [
            "Epoch [66/100], Loss: 0.5951, Time (s): 7\n"
          ],
          "name": "stdout"
        },
        {
          "output_type": "stream",
          "text": [
            "Clipping input data to the valid range for imshow with RGB data ([0..1] for floats or [0..255] for integers).\n"
          ],
          "name": "stderr"
        },
        {
          "output_type": "stream",
          "text": [
            "Epoch [66/100], Loss: 0.5938, mIOU: 0.8059, Validation time (s): 2\n"
          ],
          "name": "stdout"
        },
        {
          "output_type": "stream",
          "text": [
            "Clipping input data to the valid range for imshow with RGB data ([0..1] for floats or [0..255] for integers).\n"
          ],
          "name": "stderr"
        },
        {
          "output_type": "stream",
          "text": [
            "Epoch [67/100], Loss: 0.5920, Time (s): 6\n"
          ],
          "name": "stdout"
        },
        {
          "output_type": "stream",
          "text": [
            "Clipping input data to the valid range for imshow with RGB data ([0..1] for floats or [0..255] for integers).\n"
          ],
          "name": "stderr"
        },
        {
          "output_type": "stream",
          "text": [
            "Epoch [67/100], Loss: 0.5921, mIOU: 0.8255, Validation time (s): 2\n"
          ],
          "name": "stdout"
        },
        {
          "output_type": "stream",
          "text": [
            "Clipping input data to the valid range for imshow with RGB data ([0..1] for floats or [0..255] for integers).\n"
          ],
          "name": "stderr"
        },
        {
          "output_type": "stream",
          "text": [
            "Epoch [68/100], Loss: 0.5949, Time (s): 6\n"
          ],
          "name": "stdout"
        },
        {
          "output_type": "stream",
          "text": [
            "Clipping input data to the valid range for imshow with RGB data ([0..1] for floats or [0..255] for integers).\n"
          ],
          "name": "stderr"
        },
        {
          "output_type": "stream",
          "text": [
            "Epoch [68/100], Loss: 0.5970, mIOU: 0.8020, Validation time (s): 2\n",
            "Epoch [69/100], Loss: 0.5923, Time (s): 7\n"
          ],
          "name": "stdout"
        },
        {
          "output_type": "stream",
          "text": [
            "Clipping input data to the valid range for imshow with RGB data ([0..1] for floats or [0..255] for integers).\n"
          ],
          "name": "stderr"
        },
        {
          "output_type": "stream",
          "text": [
            "Epoch [69/100], Loss: 0.5885, mIOU: 0.8412, Validation time (s): 2\n"
          ],
          "name": "stdout"
        },
        {
          "output_type": "stream",
          "text": [
            "Clipping input data to the valid range for imshow with RGB data ([0..1] for floats or [0..255] for integers).\n"
          ],
          "name": "stderr"
        },
        {
          "output_type": "stream",
          "text": [
            "Epoch [70/100], Loss: 0.5912, Time (s): 7\n"
          ],
          "name": "stdout"
        },
        {
          "output_type": "stream",
          "text": [
            "Clipping input data to the valid range for imshow with RGB data ([0..1] for floats or [0..255] for integers).\n"
          ],
          "name": "stderr"
        },
        {
          "output_type": "stream",
          "text": [
            "Epoch [70/100], Loss: 0.5893, mIOU: 0.8353, Validation time (s): 2\n",
            "Epoch [71/100], Loss: 0.5939, Time (s): 7\n"
          ],
          "name": "stdout"
        },
        {
          "output_type": "stream",
          "text": [
            "Clipping input data to the valid range for imshow with RGB data ([0..1] for floats or [0..255] for integers).\n"
          ],
          "name": "stderr"
        },
        {
          "output_type": "stream",
          "text": [
            "Epoch [71/100], Loss: 0.6080, mIOU: 0.7255, Validation time (s): 2\n"
          ],
          "name": "stdout"
        },
        {
          "output_type": "stream",
          "text": [
            "Clipping input data to the valid range for imshow with RGB data ([0..1] for floats or [0..255] for integers).\n"
          ],
          "name": "stderr"
        },
        {
          "output_type": "stream",
          "text": [
            "Epoch [72/100], Loss: 0.5893, Time (s): 7\n"
          ],
          "name": "stdout"
        },
        {
          "output_type": "stream",
          "text": [
            "Clipping input data to the valid range for imshow with RGB data ([0..1] for floats or [0..255] for integers).\n"
          ],
          "name": "stderr"
        },
        {
          "output_type": "stream",
          "text": [
            "Epoch [72/100], Loss: 0.5974, mIOU: 0.7961, Validation time (s): 2\n"
          ],
          "name": "stdout"
        },
        {
          "output_type": "stream",
          "text": [
            "Clipping input data to the valid range for imshow with RGB data ([0..1] for floats or [0..255] for integers).\n"
          ],
          "name": "stderr"
        },
        {
          "output_type": "stream",
          "text": [
            "Epoch [73/100], Loss: 0.5940, Time (s): 6\n"
          ],
          "name": "stdout"
        },
        {
          "output_type": "stream",
          "text": [
            "Clipping input data to the valid range for imshow with RGB data ([0..1] for floats or [0..255] for integers).\n"
          ],
          "name": "stderr"
        },
        {
          "output_type": "stream",
          "text": [
            "Epoch [73/100], Loss: 0.5855, mIOU: 0.8490, Validation time (s): 2\n"
          ],
          "name": "stdout"
        },
        {
          "output_type": "stream",
          "text": [
            "Clipping input data to the valid range for imshow with RGB data ([0..1] for floats or [0..255] for integers).\n"
          ],
          "name": "stderr"
        },
        {
          "output_type": "stream",
          "text": [
            "Epoch [74/100], Loss: 0.5895, Time (s): 7\n"
          ],
          "name": "stdout"
        },
        {
          "output_type": "stream",
          "text": [
            "Clipping input data to the valid range for imshow with RGB data ([0..1] for floats or [0..255] for integers).\n"
          ],
          "name": "stderr"
        },
        {
          "output_type": "stream",
          "text": [
            "Epoch [74/100], Loss: 0.5875, mIOU: 0.8412, Validation time (s): 2\n"
          ],
          "name": "stdout"
        },
        {
          "output_type": "stream",
          "text": [
            "Clipping input data to the valid range for imshow with RGB data ([0..1] for floats or [0..255] for integers).\n"
          ],
          "name": "stderr"
        },
        {
          "output_type": "stream",
          "text": [
            "Epoch [75/100], Loss: 0.5908, Time (s): 6\n"
          ],
          "name": "stdout"
        },
        {
          "output_type": "stream",
          "text": [
            "Clipping input data to the valid range for imshow with RGB data ([0..1] for floats or [0..255] for integers).\n"
          ],
          "name": "stderr"
        },
        {
          "output_type": "stream",
          "text": [
            "Epoch [75/100], Loss: 0.5885, mIOU: 0.8451, Validation time (s): 2\n"
          ],
          "name": "stdout"
        },
        {
          "output_type": "stream",
          "text": [
            "Clipping input data to the valid range for imshow with RGB data ([0..1] for floats or [0..255] for integers).\n"
          ],
          "name": "stderr"
        },
        {
          "output_type": "stream",
          "text": [
            "Epoch [76/100], Loss: 0.5895, Time (s): 7\n"
          ],
          "name": "stdout"
        },
        {
          "output_type": "stream",
          "text": [
            "Clipping input data to the valid range for imshow with RGB data ([0..1] for floats or [0..255] for integers).\n"
          ],
          "name": "stderr"
        },
        {
          "output_type": "stream",
          "text": [
            "Epoch [76/100], Loss: 0.5890, mIOU: 0.8373, Validation time (s): 2\n"
          ],
          "name": "stdout"
        },
        {
          "output_type": "stream",
          "text": [
            "Clipping input data to the valid range for imshow with RGB data ([0..1] for floats or [0..255] for integers).\n"
          ],
          "name": "stderr"
        },
        {
          "output_type": "stream",
          "text": [
            "Epoch [77/100], Loss: 0.5898, Time (s): 6\n"
          ],
          "name": "stdout"
        },
        {
          "output_type": "stream",
          "text": [
            "Clipping input data to the valid range for imshow with RGB data ([0..1] for floats or [0..255] for integers).\n"
          ],
          "name": "stderr"
        },
        {
          "output_type": "stream",
          "text": [
            "Epoch [77/100], Loss: 0.5913, mIOU: 0.8078, Validation time (s): 2\n"
          ],
          "name": "stdout"
        },
        {
          "output_type": "stream",
          "text": [
            "Clipping input data to the valid range for imshow with RGB data ([0..1] for floats or [0..255] for integers).\n"
          ],
          "name": "stderr"
        },
        {
          "output_type": "stream",
          "text": [
            "Epoch [78/100], Loss: 0.5861, Time (s): 7\n"
          ],
          "name": "stdout"
        },
        {
          "output_type": "stream",
          "text": [
            "Clipping input data to the valid range for imshow with RGB data ([0..1] for floats or [0..255] for integers).\n"
          ],
          "name": "stderr"
        },
        {
          "output_type": "stream",
          "text": [
            "Epoch [78/100], Loss: 0.5847, mIOU: 0.8647, Validation time (s): 2\n"
          ],
          "name": "stdout"
        },
        {
          "output_type": "stream",
          "text": [
            "Clipping input data to the valid range for imshow with RGB data ([0..1] for floats or [0..255] for integers).\n"
          ],
          "name": "stderr"
        },
        {
          "output_type": "stream",
          "text": [
            "Epoch [79/100], Loss: 0.5883, Time (s): 6\n"
          ],
          "name": "stdout"
        },
        {
          "output_type": "stream",
          "text": [
            "Clipping input data to the valid range for imshow with RGB data ([0..1] for floats or [0..255] for integers).\n"
          ],
          "name": "stderr"
        },
        {
          "output_type": "stream",
          "text": [
            "Epoch [79/100], Loss: 0.5830, mIOU: 0.8667, Validation time (s): 2\n"
          ],
          "name": "stdout"
        },
        {
          "output_type": "stream",
          "text": [
            "Clipping input data to the valid range for imshow with RGB data ([0..1] for floats or [0..255] for integers).\n"
          ],
          "name": "stderr"
        },
        {
          "output_type": "stream",
          "text": [
            "Epoch [80/100], Loss: 0.5873, Time (s): 7\n"
          ],
          "name": "stdout"
        },
        {
          "output_type": "stream",
          "text": [
            "Clipping input data to the valid range for imshow with RGB data ([0..1] for floats or [0..255] for integers).\n"
          ],
          "name": "stderr"
        },
        {
          "output_type": "stream",
          "text": [
            "Epoch [80/100], Loss: 0.5896, mIOU: 0.8333, Validation time (s): 2\n"
          ],
          "name": "stdout"
        },
        {
          "output_type": "stream",
          "text": [
            "Clipping input data to the valid range for imshow with RGB data ([0..1] for floats or [0..255] for integers).\n"
          ],
          "name": "stderr"
        },
        {
          "output_type": "stream",
          "text": [
            "Epoch [81/100], Loss: 0.5900, Time (s): 7\n"
          ],
          "name": "stdout"
        },
        {
          "output_type": "stream",
          "text": [
            "Clipping input data to the valid range for imshow with RGB data ([0..1] for floats or [0..255] for integers).\n"
          ],
          "name": "stderr"
        },
        {
          "output_type": "stream",
          "text": [
            "Epoch [81/100], Loss: 0.5832, mIOU: 0.8667, Validation time (s): 2\n"
          ],
          "name": "stdout"
        },
        {
          "output_type": "stream",
          "text": [
            "Clipping input data to the valid range for imshow with RGB data ([0..1] for floats or [0..255] for integers).\n"
          ],
          "name": "stderr"
        },
        {
          "output_type": "stream",
          "text": [
            "Epoch [82/100], Loss: 0.5907, Time (s): 7\n"
          ],
          "name": "stdout"
        },
        {
          "output_type": "stream",
          "text": [
            "Clipping input data to the valid range for imshow with RGB data ([0..1] for floats or [0..255] for integers).\n"
          ],
          "name": "stderr"
        },
        {
          "output_type": "stream",
          "text": [
            "Epoch [82/100], Loss: 0.5866, mIOU: 0.8510, Validation time (s): 2\n"
          ],
          "name": "stdout"
        },
        {
          "output_type": "stream",
          "text": [
            "Clipping input data to the valid range for imshow with RGB data ([0..1] for floats or [0..255] for integers).\n"
          ],
          "name": "stderr"
        },
        {
          "output_type": "stream",
          "text": [
            "Epoch [83/100], Loss: 0.5870, Time (s): 7\n"
          ],
          "name": "stdout"
        },
        {
          "output_type": "stream",
          "text": [
            "Clipping input data to the valid range for imshow with RGB data ([0..1] for floats or [0..255] for integers).\n"
          ],
          "name": "stderr"
        },
        {
          "output_type": "stream",
          "text": [
            "Epoch [83/100], Loss: 0.5818, mIOU: 0.8686, Validation time (s): 2\n",
            "Epoch [84/100], Loss: 0.5874, Time (s): 7\n"
          ],
          "name": "stdout"
        },
        {
          "output_type": "stream",
          "text": [
            "Clipping input data to the valid range for imshow with RGB data ([0..1] for floats or [0..255] for integers).\n"
          ],
          "name": "stderr"
        },
        {
          "output_type": "stream",
          "text": [
            "Epoch [84/100], Loss: 0.5932, mIOU: 0.8118, Validation time (s): 2\n"
          ],
          "name": "stdout"
        },
        {
          "output_type": "stream",
          "text": [
            "Clipping input data to the valid range for imshow with RGB data ([0..1] for floats or [0..255] for integers).\n"
          ],
          "name": "stderr"
        },
        {
          "output_type": "stream",
          "text": [
            "Epoch [85/100], Loss: 0.5857, Time (s): 7\n"
          ],
          "name": "stdout"
        },
        {
          "output_type": "stream",
          "text": [
            "Clipping input data to the valid range for imshow with RGB data ([0..1] for floats or [0..255] for integers).\n"
          ],
          "name": "stderr"
        },
        {
          "output_type": "stream",
          "text": [
            "Epoch [85/100], Loss: 0.5853, mIOU: 0.8510, Validation time (s): 2\n",
            "Epoch [86/100], Loss: 0.5883, Time (s): 7\n"
          ],
          "name": "stdout"
        },
        {
          "output_type": "stream",
          "text": [
            "Clipping input data to the valid range for imshow with RGB data ([0..1] for floats or [0..255] for integers).\n"
          ],
          "name": "stderr"
        },
        {
          "output_type": "stream",
          "text": [
            "Epoch [86/100], Loss: 0.5864, mIOU: 0.8490, Validation time (s): 2\n",
            "Epoch [87/100], Loss: 0.5873, Time (s): 7\n"
          ],
          "name": "stdout"
        },
        {
          "output_type": "stream",
          "text": [
            "Clipping input data to the valid range for imshow with RGB data ([0..1] for floats or [0..255] for integers).\n"
          ],
          "name": "stderr"
        },
        {
          "output_type": "stream",
          "text": [
            "Epoch [87/100], Loss: 0.6235, mIOU: 0.6294, Validation time (s): 2\n",
            "Epoch [88/100], Loss: 0.5852, Time (s): 7\n"
          ],
          "name": "stdout"
        },
        {
          "output_type": "stream",
          "text": [
            "Clipping input data to the valid range for imshow with RGB data ([0..1] for floats or [0..255] for integers).\n"
          ],
          "name": "stderr"
        },
        {
          "output_type": "stream",
          "text": [
            "Epoch [88/100], Loss: 0.5878, mIOU: 0.8471, Validation time (s): 2\n",
            "Epoch [89/100], Loss: 0.5890, Time (s): 7\n"
          ],
          "name": "stdout"
        },
        {
          "output_type": "stream",
          "text": [
            "Clipping input data to the valid range for imshow with RGB data ([0..1] for floats or [0..255] for integers).\n"
          ],
          "name": "stderr"
        },
        {
          "output_type": "stream",
          "text": [
            "Epoch [89/100], Loss: 0.5886, mIOU: 0.8373, Validation time (s): 2\n"
          ],
          "name": "stdout"
        },
        {
          "output_type": "stream",
          "text": [
            "Clipping input data to the valid range for imshow with RGB data ([0..1] for floats or [0..255] for integers).\n"
          ],
          "name": "stderr"
        },
        {
          "output_type": "stream",
          "text": [
            "Epoch [90/100], Loss: 0.5872, Time (s): 7\n"
          ],
          "name": "stdout"
        },
        {
          "output_type": "stream",
          "text": [
            "Clipping input data to the valid range for imshow with RGB data ([0..1] for floats or [0..255] for integers).\n"
          ],
          "name": "stderr"
        },
        {
          "output_type": "stream",
          "text": [
            "Epoch [90/100], Loss: 0.5918, mIOU: 0.8176, Validation time (s): 2\n"
          ],
          "name": "stdout"
        },
        {
          "output_type": "stream",
          "text": [
            "Clipping input data to the valid range for imshow with RGB data ([0..1] for floats or [0..255] for integers).\n"
          ],
          "name": "stderr"
        },
        {
          "output_type": "stream",
          "text": [
            "Epoch [91/100], Loss: 0.5902, Time (s): 7\n"
          ],
          "name": "stdout"
        },
        {
          "output_type": "stream",
          "text": [
            "Clipping input data to the valid range for imshow with RGB data ([0..1] for floats or [0..255] for integers).\n"
          ],
          "name": "stderr"
        },
        {
          "output_type": "stream",
          "text": [
            "Epoch [91/100], Loss: 0.6124, mIOU: 0.6843, Validation time (s): 2\n"
          ],
          "name": "stdout"
        },
        {
          "output_type": "stream",
          "text": [
            "Clipping input data to the valid range for imshow with RGB data ([0..1] for floats or [0..255] for integers).\n"
          ],
          "name": "stderr"
        },
        {
          "output_type": "stream",
          "text": [
            "Epoch [92/100], Loss: 0.5876, Time (s): 6\n"
          ],
          "name": "stdout"
        },
        {
          "output_type": "stream",
          "text": [
            "Clipping input data to the valid range for imshow with RGB data ([0..1] for floats or [0..255] for integers).\n"
          ],
          "name": "stderr"
        },
        {
          "output_type": "stream",
          "text": [
            "Epoch [92/100], Loss: 0.5862, mIOU: 0.8490, Validation time (s): 2\n"
          ],
          "name": "stdout"
        },
        {
          "output_type": "stream",
          "text": [
            "Clipping input data to the valid range for imshow with RGB data ([0..1] for floats or [0..255] for integers).\n"
          ],
          "name": "stderr"
        },
        {
          "output_type": "stream",
          "text": [
            "Epoch [93/100], Loss: 0.5888, Time (s): 7\n"
          ],
          "name": "stdout"
        },
        {
          "output_type": "stream",
          "text": [
            "Clipping input data to the valid range for imshow with RGB data ([0..1] for floats or [0..255] for integers).\n"
          ],
          "name": "stderr"
        },
        {
          "output_type": "stream",
          "text": [
            "Epoch [93/100], Loss: 0.5984, mIOU: 0.7725, Validation time (s): 2\n",
            "Epoch [94/100], Loss: 0.5843, Time (s): 7\n"
          ],
          "name": "stdout"
        },
        {
          "output_type": "stream",
          "text": [
            "Clipping input data to the valid range for imshow with RGB data ([0..1] for floats or [0..255] for integers).\n"
          ],
          "name": "stderr"
        },
        {
          "output_type": "stream",
          "text": [
            "Epoch [94/100], Loss: 0.5846, mIOU: 0.8529, Validation time (s): 2\n"
          ],
          "name": "stdout"
        },
        {
          "output_type": "stream",
          "text": [
            "Clipping input data to the valid range for imshow with RGB data ([0..1] for floats or [0..255] for integers).\n"
          ],
          "name": "stderr"
        },
        {
          "output_type": "stream",
          "text": [
            "Epoch [95/100], Loss: 0.5881, Time (s): 6\n"
          ],
          "name": "stdout"
        },
        {
          "output_type": "stream",
          "text": [
            "Clipping input data to the valid range for imshow with RGB data ([0..1] for floats or [0..255] for integers).\n"
          ],
          "name": "stderr"
        },
        {
          "output_type": "stream",
          "text": [
            "Epoch [95/100], Loss: 0.5879, mIOU: 0.8412, Validation time (s): 2\n"
          ],
          "name": "stdout"
        },
        {
          "output_type": "stream",
          "text": [
            "Clipping input data to the valid range for imshow with RGB data ([0..1] for floats or [0..255] for integers).\n"
          ],
          "name": "stderr"
        },
        {
          "output_type": "stream",
          "text": [
            "Epoch [96/100], Loss: 0.5855, Time (s): 7\n"
          ],
          "name": "stdout"
        },
        {
          "output_type": "stream",
          "text": [
            "Clipping input data to the valid range for imshow with RGB data ([0..1] for floats or [0..255] for integers).\n"
          ],
          "name": "stderr"
        },
        {
          "output_type": "stream",
          "text": [
            "Epoch [96/100], Loss: 0.5860, mIOU: 0.8569, Validation time (s): 2\n"
          ],
          "name": "stdout"
        },
        {
          "output_type": "stream",
          "text": [
            "Clipping input data to the valid range for imshow with RGB data ([0..1] for floats or [0..255] for integers).\n"
          ],
          "name": "stderr"
        },
        {
          "output_type": "stream",
          "text": [
            "Epoch [97/100], Loss: 0.5846, Time (s): 7\n"
          ],
          "name": "stdout"
        },
        {
          "output_type": "stream",
          "text": [
            "Clipping input data to the valid range for imshow with RGB data ([0..1] for floats or [0..255] for integers).\n"
          ],
          "name": "stderr"
        },
        {
          "output_type": "stream",
          "text": [
            "Epoch [97/100], Loss: 0.5846, mIOU: 0.8588, Validation time (s): 2\n"
          ],
          "name": "stdout"
        },
        {
          "output_type": "stream",
          "text": [
            "Clipping input data to the valid range for imshow with RGB data ([0..1] for floats or [0..255] for integers).\n"
          ],
          "name": "stderr"
        },
        {
          "output_type": "stream",
          "text": [
            "Epoch [98/100], Loss: 0.5867, Time (s): 7\n"
          ],
          "name": "stdout"
        },
        {
          "output_type": "stream",
          "text": [
            "Clipping input data to the valid range for imshow with RGB data ([0..1] for floats or [0..255] for integers).\n"
          ],
          "name": "stderr"
        },
        {
          "output_type": "stream",
          "text": [
            "Epoch [98/100], Loss: 0.5812, mIOU: 0.8804, Validation time (s): 2\n"
          ],
          "name": "stdout"
        },
        {
          "output_type": "stream",
          "text": [
            "Clipping input data to the valid range for imshow with RGB data ([0..1] for floats or [0..255] for integers).\n"
          ],
          "name": "stderr"
        },
        {
          "output_type": "stream",
          "text": [
            "Epoch [99/100], Loss: 0.5874, Time (s): 7\n"
          ],
          "name": "stdout"
        },
        {
          "output_type": "stream",
          "text": [
            "Clipping input data to the valid range for imshow with RGB data ([0..1] for floats or [0..255] for integers).\n"
          ],
          "name": "stderr"
        },
        {
          "output_type": "stream",
          "text": [
            "Epoch [99/100], Loss: 0.5825, mIOU: 0.8725, Validation time (s): 2\n",
            "Epoch [100/100], Loss: 0.5861, Time (s): 7\n"
          ],
          "name": "stdout"
        },
        {
          "output_type": "stream",
          "text": [
            "Clipping input data to the valid range for imshow with RGB data ([0..1] for floats or [0..255] for integers).\n"
          ],
          "name": "stderr"
        },
        {
          "output_type": "stream",
          "text": [
            "Epoch [100/100], Loss: 0.5885, mIOU: 0.8275, Validation time (s): 2\n",
            "Saving model...\n",
            "Best model achieves mIOU: 0.8804\n"
          ],
          "name": "stdout"
        },
        {
          "output_type": "display_data",
          "data": {
            "image/png": "[encoded data removed]",
            "text/plain": [
              "<Figure size 432x288 with 1 Axes>"
            ]
          },
          "metadata": {
            "tags": [],
            "needs_background": "light"
          }
        },
        {
          "output_type": "display_data",
          "data": {
            "image/png": "[encoded data removed]",
            "text/plain": [
              "<Figure size 432x288 with 1 Axes>"
            ]
          },
          "metadata": {
            "tags": [],
            "needs_background": "light"
          }
        }
      ]
    },
    {
      "cell_type": "code",
      "metadata": {
        "id": "5DdeNQY6k7_o",
        "colab_type": "code",
        "outputId": "12aa990a-da1f-4bd9-f0b9-8326e7dc6813",
        "colab": {
          "base_uri": "https://localhost:8080/",
          "height": 780
        }
      },
      "source": [
        "plot_prediction(args, unet_model, is_train=False, index_list=[0, 1, 2, 7])"
      ],
      "execution_count": 81,
      "outputs": [
        {
          "output_type": "stream",
          "text": [
            "Clipping input data to the valid range for imshow with RGB data ([0..1] for floats or [0..255] for integers).\n",
            "Clipping input data to the valid range for imshow with RGB data ([0..1] for floats or [0..255] for integers).\n"
          ],
          "name": "stderr"
        },
        {
          "output_type": "display_data",
          "data": {
            "image/png": "[encoded data removed]",
            "text/plain": [
              "<Figure size 720x360 with 3 Axes>"
            ]
          },
          "metadata": {
            "tags": []
          }
        },
        {
          "output_type": "display_data",
          "data": {
            "image/png": "[encoded data removed]",
            "text/plain": [
              "<Figure size 720x360 with 3 Axes>"
            ]
          },
          "metadata": {
            "tags": []
          }
        },
        {
          "output_type": "display_data",
          "data": {
            "image/png": "[encoded data removed]",
            "text/plain": [
              "<Figure size 720x360 with 3 Axes>"
            ]
          },
          "metadata": {
            "tags": []
          }
        },
        {
          "output_type": "display_data",
          "data": {
            "image/png": "[encoded data removed]",
            "text/plain": [
              "<Figure size 720x360 with 3 Axes>"
            ]
          },
          "metadata": {
            "tags": []
          }
        }
      ]
    },
    {
      "cell_type": "code",
      "metadata": {
        "id": "pJm35Rt8-diP",
        "colab_type": "code",
        "colab": {
          "base_uri": "https://localhost:8080/",
          "height": 35
        },
        "outputId": "80977ce0-8b34-41b2-cc61-7704bae793c1"
      },
      "source": [
        "\n",
        "def count_parameters(model): \n",
        "  return sum(p.numel() for p in model.parameters() if p.requires_grad)\n",
        "\n",
        "count_parameters(unet_model)"
      ],
      "execution_count": 85,
      "outputs": [
        {
          "output_type": "execute_result",
          "data": {
            "text/plain": [
              "95502"
            ]
          },
          "metadata": {
            "tags": []
          },
          "execution_count": 85
        }
      ]
    },
    {
      "cell_type": "code",
      "metadata": {
        "id": "6ON8A5KMcdB2",
        "colab_type": "code",
        "colab": {}
      },
      "source": [
        ""
      ],
      "execution_count": 0,
      "outputs": []
    }
  ]
}